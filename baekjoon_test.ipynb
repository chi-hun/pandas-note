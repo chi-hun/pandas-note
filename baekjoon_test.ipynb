{
  "nbformat": 4,
  "nbformat_minor": 0,
  "metadata": {
    "colab": {
      "name": "baekjoon_test.ipynb",
      "provenance": [],
      "collapsed_sections": [],
      "authorship_tag": "ABX9TyO1SKioj2g3vX2bjgVfHMxY",
      "include_colab_link": true
    },
    "kernelspec": {
      "name": "python3",
      "display_name": "Python 3"
    },
    "language_info": {
      "name": "python"
    }
  },
  "cells": [
    {
      "cell_type": "markdown",
      "metadata": {
        "id": "view-in-github",
        "colab_type": "text"
      },
      "source": [
        "<a href=\"https://colab.research.google.com/github/chi-hun/pandas-note/blob/main/baekjoon_test.ipynb\" target=\"_parent\"><img src=\"https://colab.research.google.com/assets/colab-badge.svg\" alt=\"Open In Colab\"/></a>"
      ]
    },
    {
      "cell_type": "markdown",
      "source": [
        "https://www.acmicpc.net/"
      ],
      "metadata": {
        "id": "hyT1W-S89Bj5"
      }
    },
    {
      "cell_type": "markdown",
      "source": [
        "1871 success"
      ],
      "metadata": {
        "id": "aVz9JV4PuHE-"
      }
    },
    {
      "cell_type": "code",
      "source": [
        "n = int(input())\n",
        "for _ in range(n):\n",
        "  a, b = map(str, input().split('-'))\n",
        "  a_a=0\n",
        "  b = int(b)\n",
        "  for i in range(3):\n",
        "    a_a += (ord(a[i])-65)*(26**(2-i))\n",
        "  if abs(a_a - b) > 100:\n",
        "    print('not nice')\n",
        "  else:\n",
        "    print('nice')"
      ],
      "metadata": {
        "colab": {
          "base_uri": "https://localhost:8080/"
        },
        "id": "KV2AyNq6D7g1",
        "outputId": "f52989c6-4136-42db-99fa-b5de59c36416"
      },
      "execution_count": null,
      "outputs": [
        {
          "output_type": "stream",
          "name": "stdout",
          "text": [
            "2\n",
            "ABC-0123\n",
            "nice\n",
            "AAA-9999\n",
            "not nice\n"
          ]
        }
      ]
    },
    {
      "cell_type": "markdown",
      "source": [
        "2010 success   (colab  sys.stdin.readline() 에러 발생)\n",
        "\n"
      ],
      "metadata": {
        "id": "houjy9bhAVyX"
      }
    },
    {
      "cell_type": "code",
      "source": [
        "import sys\n",
        "n = int(sys.stdin.readline())\n",
        "re = 1\n",
        "for _ in range(n):\n",
        "    re += int(sys.stdin.readline())-1\n",
        "print(re)"
      ],
      "metadata": {
        "id": "oCauaHRgNPGh"
      },
      "execution_count": null,
      "outputs": []
    },
    {
      "cell_type": "markdown",
      "source": [
        "1924 success"
      ],
      "metadata": {
        "id": "6wCZzzVUOIpE"
      }
    },
    {
      "cell_type": "code",
      "source": [
        "mon_day=[31,28,31,30,31,30,31,31,30,31,30,31]\n",
        "mon, day = map(int, input().split())\n",
        "dday = day - 1\n",
        "for i in range(mon-1):\n",
        "  dday += mon_day[i]\n",
        "if dday % 7 == 0 :\n",
        "  print('MON')\n",
        "elif dday % 7 == 1 :\n",
        "  print('TUE')\n",
        "elif dday % 7 == 2 :\n",
        "  print('WED')\n",
        "elif dday % 7 == 3 :\n",
        "  print('THU')\n",
        "elif dday % 7 == 4 :\n",
        "  print('FRI')\n",
        "elif dday % 7 == 5 :\n",
        "  print('SAT')\n",
        "elif dday % 7 == 6 :\n",
        "  print('SUN')"
      ],
      "metadata": {
        "colab": {
          "base_uri": "https://localhost:8080/"
        },
        "id": "Rwa9n-isOMFi",
        "outputId": "f44cd6eb-8b92-4c9c-8744-f3512b6484a7"
      },
      "execution_count": null,
      "outputs": [
        {
          "output_type": "stream",
          "name": "stdout",
          "text": [
            "12 25\n",
            "TUE\n"
          ]
        }
      ]
    },
    {
      "cell_type": "code",
      "source": [
        "import datetime\n",
        "year = 2007\n",
        "mon, day = map(int, input().split())\n",
        "a = datetime.datetime(year, mon, day)\n",
        "print(a.strftime('%a').upper())"
      ],
      "metadata": {
        "colab": {
          "base_uri": "https://localhost:8080/"
        },
        "id": "xrAsYuP-Rbel",
        "outputId": "5d9be449-06a8-44c8-ecd3-ec07b77c8c77"
      },
      "execution_count": null,
      "outputs": [
        {
          "output_type": "stream",
          "name": "stdout",
          "text": [
            "12 25\n",
            "TUE\n"
          ]
        }
      ]
    },
    {
      "cell_type": "markdown",
      "source": [
        "1919 success"
      ],
      "metadata": {
        "id": "B6DG8ppKIKZF"
      }
    },
    {
      "cell_type": "code",
      "source": [
        "a = [i for i in input()]\n",
        "b = [i for i in input()]\n",
        "a_1 = [i for i in a]\n",
        "b_1 = [i for i in b]\n",
        "for i in a:\n",
        "  if i in b_1:\n",
        "    b_1.remove(i)\n",
        "for i in b:\n",
        "  if i in a_1:\n",
        "    a_1.remove(i)   \n",
        "print(len(a_1) + len(b_1))"
      ],
      "metadata": {
        "colab": {
          "base_uri": "https://localhost:8080/"
        },
        "id": "FM65EhHVIOF3",
        "outputId": "11f07323-384e-416e-974a-e46653fa913b"
      },
      "execution_count": null,
      "outputs": [
        {
          "output_type": "stream",
          "name": "stdout",
          "text": [
            "aabbcc\n",
            "xxbbyy\n",
            "8\n"
          ]
        }
      ]
    },
    {
      "cell_type": "markdown",
      "source": [
        "1952 success"
      ],
      "metadata": {
        "id": "mqDS66rFdmfq"
      }
    },
    {
      "cell_type": "code",
      "source": [
        "a, b = map(int, input().split())\n",
        "if a == b or a < b:\n",
        "    print((a - 1) * 2)\n",
        "else:\n",
        "    print((b - 1) * 2 + 1)"
      ],
      "metadata": {
        "id": "5s5Dsi-_dm44",
        "colab": {
          "base_uri": "https://localhost:8080/"
        },
        "outputId": "2a5a9503-c7e5-44ef-b1e3-23bcbbbbfda3"
      },
      "execution_count": null,
      "outputs": [
        {
          "output_type": "stream",
          "name": "stdout",
          "text": [
            "2 10\n",
            "3\n"
          ]
        }
      ]
    },
    {
      "cell_type": "markdown",
      "source": [
        "1964 success"
      ],
      "metadata": {
        "id": "bFFRrfOOv8Vm"
      }
    },
    {
      "cell_type": "code",
      "source": [
        "n = int(input())\n",
        "if n == 1:\n",
        "  print(5)\n",
        "else:\n",
        "  re = 5\n",
        "  pl = 7\n",
        "  for i in range(1,n):\n",
        "    re += pl\n",
        "    pl += 3\n",
        "  print(re)"
      ],
      "metadata": {
        "colab": {
          "base_uri": "https://localhost:8080/"
        },
        "id": "-IjgWZlJwEbb",
        "outputId": "6faf2f95-f238-41b2-bcc1-8bbd92fbbbbc"
      },
      "execution_count": null,
      "outputs": [
        {
          "output_type": "stream",
          "name": "stdout",
          "text": [
            "19\n",
            "590\n"
          ]
        }
      ]
    },
    {
      "cell_type": "markdown",
      "source": [
        "1975 success"
      ],
      "metadata": {
        "id": "hirUJZMv2NXm"
      }
    },
    {
      "cell_type": "code",
      "source": [
        "import sys\n",
        "def jin(a, b):\n",
        "  if a % b == 0:\n",
        "    return 1 + jin(a//b, b)\n",
        "  else:\n",
        "    return 0\n",
        "for _ in range(int(sys.stdin.readline())):\n",
        "  n = int(sys.stdin.readline())\n",
        "  re = 0\n",
        "  for i in range(2, n+1):\n",
        "    re += jin(n, i)\n",
        "  print(re)"
      ],
      "metadata": {
        "colab": {
          "base_uri": "https://localhost:8080/"
        },
        "id": "QArUzJXg2Mui",
        "outputId": "fcb67225-9440-4c79-b1b5-d2331f9e54f7"
      },
      "execution_count": null,
      "outputs": [
        {
          "output_type": "stream",
          "name": "stdout",
          "text": [
            "2\n",
            "5\n",
            "1\n",
            "10\n",
            "3\n"
          ]
        }
      ]
    },
    {
      "cell_type": "markdown",
      "source": [
        "1977 success"
      ],
      "metadata": {
        "id": "Z8S8NHM4qXfy"
      }
    },
    {
      "cell_type": "code",
      "source": [
        "re = []\n",
        "m = int(input())\n",
        "n = int(input())\n",
        "m_r = int(m**0.5)\n",
        "n_r = int(n**0.5)\n",
        "for i in range(m_r, n_r+1):\n",
        "  if m <= i*i <= n:\n",
        "    re.append(i*i)\n",
        "if len(re) == 0:\n",
        "  print(-1)\n",
        "else:\n",
        "  print(sum(re))\n",
        "  print(min(re))"
      ],
      "metadata": {
        "colab": {
          "base_uri": "https://localhost:8080/"
        },
        "id": "nnXh4tCSqZ0c",
        "outputId": "a2e47086-4981-4814-f454-a5748c6f676e"
      },
      "execution_count": null,
      "outputs": [
        {
          "output_type": "stream",
          "name": "stdout",
          "text": [
            "60\n",
            "100\n",
            "245\n",
            "64\n"
          ]
        }
      ]
    },
    {
      "cell_type": "markdown",
      "source": [
        "1996 success"
      ],
      "metadata": {
        "id": "IiraQnwRzUl9"
      }
    },
    {
      "cell_type": "code",
      "source": [
        "n = int(input())\n",
        "mine = []\n",
        "for _ in range(n):\n",
        "  mine.append(input())\n",
        "for i in range(n):\n",
        "  re =''\n",
        "  for j in range(n):\n",
        "    if mine[i][j] != '.':\n",
        "      re += '*'\n",
        "    else:\n",
        "      re_s = 0\n",
        "      if j-1 != -1 and i-1 != -1 : # -1, -1\n",
        "        if mine[i-1][j-1] != '.':\n",
        "          re_s += int(mine[i-1][j-1])\n",
        "      if i-1 != -1 :              # 0, -1\n",
        "        if mine[i-1][j] != '.':\n",
        "          re_s += int(mine[i-1][j])\n",
        "      if j+1 != n and i-1 != -1 : # +1, -1\n",
        "        if mine[i-1][j+1] != '.':\n",
        "          re_s += int(mine[i-1][j+1])\n",
        "      if j-1 != -1 :              # -1, 0\n",
        "        if mine[i][j-1] != '.':\n",
        "          re_s += int(mine[i][j-1])\n",
        "      if j+1 != n :              # +1, 0\n",
        "        if mine[i][j+1] != '.':\n",
        "          re_s += int(mine[i][j+1])\n",
        "      if j-1 != -1 and i+1 != n : # -1, +1\n",
        "        if mine[i+1][j-1] != '.':\n",
        "          re_s += int(mine[i+1][j-1])\n",
        "      if i+1 != n :              # 0, +1\n",
        "        if mine[i+1][j] != '.':\n",
        "          re_s += int(mine[i+1][j])\n",
        "      if j+1 != n and i+1 != n : # +1, +1\n",
        "        if mine[i+1][j+1] != '.':\n",
        "          re_s += int(mine[i+1][j+1])\n",
        "      if re_s > 9:\n",
        "        re += 'M'\n",
        "      else:\n",
        "        re += str(re_s)\n",
        "  print(re)"
      ],
      "metadata": {
        "colab": {
          "base_uri": "https://localhost:8080/"
        },
        "id": "uTDjSVwozV2K",
        "outputId": "921b62b8-f788-49ef-8524-e99bb751d680"
      },
      "execution_count": null,
      "outputs": [
        {
          "output_type": "stream",
          "name": "stdout",
          "text": [
            "5\n",
            "1....\n",
            "..3..\n",
            ".....\n",
            ".4...\n",
            "...9.\n",
            "*4330\n",
            "14*30\n",
            "47730\n",
            "4*M99\n",
            "44M*9\n"
          ]
        }
      ]
    },
    {
      "cell_type": "markdown",
      "source": [
        "2028 success"
      ],
      "metadata": {
        "id": "3IhjakG0Mbm4"
      }
    },
    {
      "cell_type": "code",
      "source": [
        "n = int(input())\n",
        "for _ in range(n):\n",
        "  a = int(input())\n",
        "  a_a = a*a\n",
        "  if int(str(a_a)[-len(str(a)):]) == a:\n",
        "    print('YES')\n",
        "  else:\n",
        "    print('NO')"
      ],
      "metadata": {
        "colab": {
          "base_uri": "https://localhost:8080/"
        },
        "id": "JIRUsalTMcg-",
        "outputId": "ad7282af-2731-4259-b491-18af9b33e080"
      },
      "execution_count": null,
      "outputs": [
        {
          "output_type": "stream",
          "name": "stdout",
          "text": [
            "4\n",
            "1\n",
            "YES\n",
            "6\n",
            "YES\n",
            "76\n",
            "YES\n",
            "89\n",
            "NO\n"
          ]
        }
      ]
    },
    {
      "cell_type": "markdown",
      "source": [
        "2033 success"
      ],
      "metadata": {
        "id": "UXHpmhrvPwbh"
      }
    },
    {
      "cell_type": "code",
      "source": [
        "n = int(input())\n",
        "re = n\n",
        "x_0 = 10\n",
        "while re > x_0:\n",
        "  if re % x_0 >= x_0//2:\n",
        "    re += x_0\n",
        "  re -= re % x_0\n",
        "  x_0 *= 10\n",
        "print(re)"
      ],
      "metadata": {
        "colab": {
          "base_uri": "https://localhost:8080/"
        },
        "id": "qZyfNyl3PxXq",
        "outputId": "f8fe85a7-bff7-470d-997a-e510c0f27ee9"
      },
      "execution_count": null,
      "outputs": [
        {
          "output_type": "stream",
          "name": "stdout",
          "text": [
            "446\n",
            "500\n"
          ]
        }
      ]
    },
    {
      "cell_type": "markdown",
      "source": [
        "2037 success"
      ],
      "metadata": {
        "id": "gSOfYSKBaG60"
      }
    },
    {
      "cell_type": "code",
      "source": [
        "al = {' ':[0,1], 'A':[2,1], 'B':[2,2], 'C':[2,3], 'D':[3,1], 'E':[3,2], 'F':[3,3], 'G':[4,1], 'H':[4,2], 'I':[4,3], \n",
        "      'J':[5,1], 'K':[5,2], 'L':[5,3], 'M':[6,1], 'N':[6,2], 'O':[6,3], 'P':[7,1], 'Q':[7,2], 'R':[7,3], 'S':[7,4], \n",
        "      'T':[8,1], 'U':[8,2], 'V':[8,3], 'W':[9,1], 'X':[9,2], 'Y':[9,3], 'Z':[9,4]}\n",
        "n, p = map(int, input().split())\n",
        "word = input()\n",
        "re = 0\n",
        "for i in range(len(word)):\n",
        "    if i == 0:\n",
        "        re += n*al[word[i]][1]\n",
        "    elif word[i] == ' ':\n",
        "        re += n*al[word[i]][1]\n",
        "    elif al[word[i-1]][0] == al[word[i]][0]:\n",
        "        re += (n*al[word[i]][1]+p)\n",
        "    else:\n",
        "        re += n*al[word[i]][1]\n",
        "print(re)"
      ],
      "metadata": {
        "colab": {
          "base_uri": "https://localhost:8080/"
        },
        "id": "EJrABjjvaJOq",
        "outputId": "ddb182e3-8e99-4352-9988-f38bbcc0d4e7"
      },
      "execution_count": null,
      "outputs": [
        {
          "output_type": "stream",
          "name": "stdout",
          "text": [
            "2 10\n",
            "ABBAS SALAM\n",
            "72\n"
          ]
        }
      ]
    },
    {
      "cell_type": "markdown",
      "source": [
        "2052 success"
      ],
      "metadata": {
        "id": "pJaL6E8VvYse"
      }
    },
    {
      "cell_type": "code",
      "source": [
        "n = int(input())\n",
        "n_2 = f'{(2**(-n)):.250f}'\n",
        "idd = 0\n",
        "for i in range(len(n_2)-1,0,-1):\n",
        "    if n_2[i] != '0':\n",
        "        idd = i\n",
        "        break\n",
        "print(n_2[:idd+1])"
      ],
      "metadata": {
        "colab": {
          "base_uri": "https://localhost:8080/"
        },
        "id": "Xm_HX9Z4wntZ",
        "outputId": "ff0607d5-ad4d-47ea-f777-c058bbc595d9"
      },
      "execution_count": null,
      "outputs": [
        {
          "output_type": "stream",
          "name": "stdout",
          "text": [
            "24\n",
            "0.000000059604644775390625\n"
          ]
        }
      ]
    },
    {
      "cell_type": "markdown",
      "source": [
        "2061 success"
      ],
      "metadata": {
        "id": "yOcc2gkd1Ync"
      }
    },
    {
      "cell_type": "code",
      "source": [
        "import sys\n",
        "k, l = sys.stdin.readline().split()\n",
        "\n",
        "for i in range(2,int(l)):\n",
        "    if(int(k) % i == 0):\n",
        "        print(\"BAD\", i)\n",
        "        exit()\n",
        "        \n",
        "print(\"GOOD\")"
      ],
      "metadata": {
        "colab": {
          "base_uri": "https://localhost:8080/"
        },
        "id": "aVIAFXEY1YOz",
        "outputId": "848841cc-4b27-42e5-c806-f5432a0b13dc"
      },
      "execution_count": null,
      "outputs": [
        {
          "output_type": "stream",
          "name": "stdout",
          "text": [
            "143 11\n",
            "GOOD\n"
          ]
        }
      ]
    },
    {
      "cell_type": "markdown",
      "source": [
        "2083 success"
      ],
      "metadata": {
        "id": "pVS1pHSpO-5_"
      }
    },
    {
      "cell_type": "code",
      "source": [
        "lis = []\n",
        "while 1:\n",
        "    li = list(map(str, input().split()))\n",
        "    if li[0] == '#' and li[1] == '0' and li[2] == '0' :\n",
        "        break\n",
        "    else:\n",
        "        lis.append(li)\n",
        "for i in lis :\n",
        "    if int(i[1]) > 17 or int(i[2]) >= 80 :\n",
        "        print(i[0], 'Senior')\n",
        "    else :\n",
        "        print(i[0], 'Junior')"
      ],
      "metadata": {
        "colab": {
          "base_uri": "https://localhost:8080/"
        },
        "id": "AmQ9DLatO_cF",
        "outputId": "a9ce0726-6663-439a-92cd-7f5102ffcb14"
      },
      "execution_count": null,
      "outputs": [
        {
          "output_type": "stream",
          "name": "stdout",
          "text": [
            "Joe 16 34\n",
            "# 0 0\n",
            "['Joe', '16', '34']\n",
            "Joe Junior\n"
          ]
        }
      ]
    },
    {
      "cell_type": "markdown",
      "source": [
        "2097 success"
      ],
      "metadata": {
        "id": "c-FSTIMLUDbp"
      }
    },
    {
      "cell_type": "code",
      "source": [
        "n = int(input())\n",
        "a = 1\n",
        "b = 1\n",
        "while 1:\n",
        "    if (a+1) * (b+1) >= n :\n",
        "        break\n",
        "    else:\n",
        "        if a  >= b:\n",
        "            b += 1\n",
        "        else:\n",
        "            a += 1\n",
        "print(2*(a+b))"
      ],
      "metadata": {
        "colab": {
          "base_uri": "https://localhost:8080/"
        },
        "id": "X3LvRNnZUDlq",
        "outputId": "fc4d335c-bc1f-4e07-eb7c-6df066e75abd"
      },
      "execution_count": null,
      "outputs": [
        {
          "output_type": "stream",
          "name": "stdout",
          "text": [
            "5\n",
            "6\n"
          ]
        }
      ]
    },
    {
      "cell_type": "markdown",
      "source": [
        "2139 success"
      ],
      "metadata": {
        "id": "dR_wMAqzWewg"
      }
    },
    {
      "cell_type": "code",
      "source": [
        "import datetime\n",
        "while 1:\n",
        "    d, m, y = map(int, input().split())\n",
        "    if d == 0 and m == 0 and y == 0:\n",
        "        break\n",
        "    d_day = datetime.datetime(y, m, d) - datetime.datetime(y, 1, 1)\n",
        "    print(d_day.days+1)"
      ],
      "metadata": {
        "id": "2a1FHm7tWiKB"
      },
      "execution_count": null,
      "outputs": []
    },
    {
      "cell_type": "markdown",
      "source": [
        "2145 success"
      ],
      "metadata": {
        "id": "h0C27MBOY1zq"
      }
    },
    {
      "cell_type": "code",
      "source": [
        "while 1:\n",
        "    n = input()\n",
        "    if not int(n):\n",
        "        break\n",
        "    while len(n) != 1:\n",
        "        a = 0\n",
        "        for i in range(len(n)):\n",
        "            a += int(n[i])\n",
        "        n = str(a)\n",
        "    print(n)"
      ],
      "metadata": {
        "id": "DH-bbQi4g3K3",
        "colab": {
          "base_uri": "https://localhost:8080/"
        },
        "outputId": "6e1d2557-c79a-4677-cb92-08b61a01e970"
      },
      "execution_count": null,
      "outputs": [
        {
          "name": "stdout",
          "output_type": "stream",
          "text": [
            "673\n",
            "7\n",
            "51\n",
            "6\n",
            "1000\n",
            "1\n",
            "99\n",
            "9\n",
            "0\n"
          ]
        }
      ]
    },
    {
      "cell_type": "markdown",
      "source": [
        "2153 success"
      ],
      "metadata": {
        "id": "9HOR4uXanoIU"
      }
    },
    {
      "cell_type": "code",
      "source": [
        "sosu = [0]+[1]*1040\n",
        "for i in range(2, int(1040**0.5)+1):\n",
        "    if sosu[i]:\n",
        "        for j in range(i+i, 1040, i):\n",
        "            sosu[j] = 0\n",
        "word = input()\n",
        "word_n = 0\n",
        "for i in range(len(word)):\n",
        "    if word[i].isupper():\n",
        "        word_n += ord(word[i]) - 64\n",
        "    else:\n",
        "        word_n += ord(word[i]) - 96\n",
        "if sosu[word_n]:\n",
        "    print('It is a prime word.')\n",
        "else:\n",
        "    print('It is not a prime word.')"
      ],
      "metadata": {
        "colab": {
          "base_uri": "https://localhost:8080/"
        },
        "id": "QyUO8LjNnnTc",
        "outputId": "3cfdd06a-3443-4d95-8d63-3f5d405e85a4"
      },
      "execution_count": null,
      "outputs": [
        {
          "output_type": "stream",
          "name": "stdout",
          "text": [
            "contest\n",
            "It is not a prime word.\n"
          ]
        }
      ]
    },
    {
      "cell_type": "markdown",
      "source": [
        "2154 success"
      ],
      "metadata": {
        "id": "YgYsWZRSt-mr"
      }
    },
    {
      "cell_type": "code",
      "source": [
        "n = input()\n",
        "nn = ''\n",
        "for i in range(1, int(n)+1):\n",
        "    nn += str(i)\n",
        "for i in range(len(nn)):\n",
        "    if nn[i:i+len(n)] == n:\n",
        "        print(i+1)\n",
        "        break"
      ],
      "metadata": {
        "colab": {
          "base_uri": "https://localhost:8080/"
        },
        "id": "ZX0UNZCpt78l",
        "outputId": "209ed0f7-753e-4d14-973f-359f47db5d31"
      },
      "execution_count": null,
      "outputs": [
        {
          "output_type": "stream",
          "name": "stdout",
          "text": [
            "142\n",
            "73\n"
          ]
        }
      ]
    },
    {
      "cell_type": "markdown",
      "source": [
        "2154 success"
      ],
      "metadata": {
        "id": "HhtjUJfp-ADk"
      }
    },
    {
      "cell_type": "code",
      "source": [
        "n = int(input())\n",
        "for _ in range(n):\n",
        "    a, b = map(int, input().split())\n",
        "    a_1 = 1\n",
        "    for i in range(a,0,-1):\n",
        "        a_1 *= i\n",
        "    b_1 = 1\n",
        "    for i in range(b,b-a,-1):\n",
        "        b_1 *= i\n",
        "    print(b_1//a_1)"
      ],
      "metadata": {
        "colab": {
          "base_uri": "https://localhost:8080/"
        },
        "id": "No7eme8l-BJZ",
        "outputId": "7628b4cf-573f-447d-d27b-b444bbb09cf4"
      },
      "execution_count": null,
      "outputs": [
        {
          "output_type": "stream",
          "name": "stdout",
          "text": [
            "3\n",
            "2 2\n",
            "1\n",
            "1 5\n",
            "5\n",
            "13 29\n",
            "67863915\n"
          ]
        }
      ]
    },
    {
      "cell_type": "markdown",
      "source": [
        "1037 success"
      ],
      "metadata": {
        "id": "IB3sHDxaCHxa"
      }
    },
    {
      "cell_type": "code",
      "source": [
        "n = int(input())\n",
        "lis = list(map(int, input().split()))\n",
        "liss = sorted(lis)\n",
        "print(liss[0]*liss[-1])"
      ],
      "metadata": {
        "colab": {
          "base_uri": "https://localhost:8080/"
        },
        "id": "ks-bj1FgCNZL",
        "outputId": "1baf8b4e-3157-4cdb-a3ca-6c6676e8cfae"
      },
      "execution_count": null,
      "outputs": [
        {
          "output_type": "stream",
          "name": "stdout",
          "text": [
            "14\n",
            "14 26456 2 28 13228 3307 7 23149 8 6614 46298 56 4 92596\n",
            "185192\n"
          ]
        }
      ]
    },
    {
      "cell_type": "markdown",
      "source": [
        "1059 success"
      ],
      "metadata": {
        "id": "9EXbmZncGW6L"
      }
    },
    {
      "cell_type": "code",
      "source": [
        "l = int(input())\n",
        "lis = sorted(list(map(int, input().split())))\n",
        "n = int(input())\n",
        "lis_m = min(lis)\n",
        "if n < lis_m:\n",
        "    print(n-1 + lis_m-1-n + (n-1)*(lis_m-1-n))\n",
        "else:\n",
        "    a, b = 0, 0\n",
        "    for i in lis:\n",
        "        if i >= n:\n",
        "            b = i-1\n",
        "            a = lis[lis.index(i)-1]+1\n",
        "            break\n",
        "    if n in lis:\n",
        "        print(0)\n",
        "    else:\n",
        "        print(n-a + b-n + (n-a) * (b-n))"
      ],
      "metadata": {
        "colab": {
          "base_uri": "https://localhost:8080/"
        },
        "id": "KOZFBcVXGXIi",
        "outputId": "51c2ac62-4a98-4568-8532-c1930eedceae"
      },
      "execution_count": null,
      "outputs": [
        {
          "output_type": "stream",
          "name": "stdout",
          "text": [
            "4\n",
            "4 7 14 10\n",
            "2\n",
            "3\n"
          ]
        }
      ]
    },
    {
      "cell_type": "markdown",
      "source": [
        "1064 success"
      ],
      "metadata": {
        "id": "Nd-b-fuIS0OZ"
      }
    },
    {
      "cell_type": "code",
      "source": [
        "ax, ay, bx, by, cx, cy = list(map(int, input().split()))\n",
        "if (by-ay)*(cx-ax) == (cy-ay)*(bx-ax):\n",
        "    print(-1.0)\n",
        "else:\n",
        "    a = ((ax-bx)**2 + (ay-by)**2)**0.5\n",
        "    b = ((bx-cx)**2 + (by-cy)**2)**0.5\n",
        "    c = ((cx-ax)**2 + (cy-ay)**2)**0.5\n",
        "    re = max((a+b)*2, (b+c)*2, (c+a)*2) - min((a+b)*2, (b+c)*2, (c+a)*2)\n",
        "    print(re)"
      ],
      "metadata": {
        "colab": {
          "base_uri": "https://localhost:8080/"
        },
        "id": "u_gHXXQHS0Xm",
        "outputId": "273c22c8-2337-40bd-db20-bd672f4e1d73"
      },
      "execution_count": null,
      "outputs": [
        {
          "output_type": "stream",
          "name": "stdout",
          "text": [
            "2 -1 -7 2 -1 0\n",
            "-1.0\n"
          ]
        }
      ]
    },
    {
      "cell_type": "markdown",
      "source": [
        "1094 success"
      ],
      "metadata": {
        "id": "_USFbraRYBIH"
      }
    },
    {
      "cell_type": "code",
      "source": [
        "x = int(input())\n",
        "stick = [64]\n",
        "while 1:\n",
        "    if sum(stick) == x:\n",
        "        print(len(stick))\n",
        "        break\n",
        "    a = int(min(stick)/2)\n",
        "    if sum(stick) - a >= x :\n",
        "        stick.remove(min(stick))\n",
        "        stick.append(a)\n",
        "    else:\n",
        "        stick.remove(min(stick))\n",
        "        stick.append(a)\n",
        "        stick.append(a)"
      ],
      "metadata": {
        "colab": {
          "base_uri": "https://localhost:8080/"
        },
        "id": "H6nQwRvnYDf3",
        "outputId": "7796372f-61e6-48ff-95fd-a2f5ff2d22a5"
      },
      "execution_count": null,
      "outputs": [
        {
          "output_type": "stream",
          "name": "stdout",
          "text": [
            "23\n",
            "[64]\n",
            "[32]\n",
            "[16, 16]\n",
            "[16, 8]\n",
            "[16, 4, 4]\n",
            "[16, 4, 2, 2]\n",
            "[16, 4, 2, 1]\n",
            "4\n"
          ]
        }
      ]
    },
    {
      "cell_type": "markdown",
      "source": [
        "1158 success"
      ],
      "metadata": {
        "id": "QgZyq6iac73J"
      }
    },
    {
      "cell_type": "code",
      "source": [
        "n, k = map(int, input().split())\n",
        "mem = [i for i in range(1, n+1)]\n",
        "re = []\n",
        "a = 0\n",
        "for _ in range(n):  \n",
        "    for i in range(k-1):\n",
        "        a +=1\n",
        "        if a >= len(mem):\n",
        "            a = a % len(mem)\n",
        "        if len(mem) == 1:\n",
        "            a = 0\n",
        "    re.append(mem[a])\n",
        "    mem.remove(mem[a])\n",
        "aaa = str(re).replace('[','<').replace(']','>')\n",
        "print(aaa)"
      ],
      "metadata": {
        "colab": {
          "base_uri": "https://localhost:8080/"
        },
        "id": "pFZzTenTc8uA",
        "outputId": "6900f19a-8f14-404b-dc8c-8be4df9d64d3"
      },
      "execution_count": null,
      "outputs": [
        {
          "output_type": "stream",
          "name": "stdout",
          "text": [
            "7 3\n",
            "<3, 6, 2, 7, 5, 1, 4>\n"
          ]
        }
      ]
    },
    {
      "cell_type": "markdown",
      "source": [
        "1246 success"
      ],
      "metadata": {
        "id": "GEeoZWiP18Yj"
      }
    },
    {
      "cell_type": "code",
      "source": [
        "n, m = map(int, input().split())\n",
        "mem = [int(input()) for _ in range(m)]\n",
        "va = []\n",
        "inn = []\n",
        "for i in mem:\n",
        "    ct = 0\n",
        "    for j in mem:\n",
        "        if j >= i :\n",
        "            ct += 1\n",
        "    if ct >= n:\n",
        "        ct = n\n",
        "    va.append(i)\n",
        "    inn.append(i*ct)\n",
        "ma = max(inn)\n",
        "print(va[inn.index(ma)], ma)"
      ],
      "metadata": {
        "colab": {
          "base_uri": "https://localhost:8080/"
        },
        "id": "9TJPuubv18o3",
        "outputId": "49f3699b-c1bf-4b05-8331-c55d5e2027e7"
      },
      "execution_count": null,
      "outputs": [
        {
          "output_type": "stream",
          "name": "stdout",
          "text": [
            "5 4\n",
            "2\n",
            "8\n",
            "10\n",
            "7\n",
            "7 21\n"
          ]
        }
      ]
    },
    {
      "cell_type": "markdown",
      "source": [
        "1251 success"
      ],
      "metadata": {
        "id": "9MXf1SoX-7tT"
      }
    },
    {
      "cell_type": "code",
      "source": [
        "n = input()\n",
        "re = []\n",
        "for i in range(1, len(n)-1):\n",
        "    for j in range(i+1, len(n)):\n",
        "        a = n[:i]\n",
        "        b = n[i:j]\n",
        "        c = n[j:]\n",
        "        a =  a[::-1]\n",
        "        b =  b[::-1]\n",
        "        c =  c[::-1]\n",
        "        re.append(a+b+c)\n",
        "print(sorted(re)[0])"
      ],
      "metadata": {
        "id": "AkDAG4U3-8vG",
        "colab": {
          "base_uri": "https://localhost:8080/"
        },
        "outputId": "37506359-f18f-4d84-f6ee-72b1e4835d16"
      },
      "execution_count": null,
      "outputs": [
        {
          "output_type": "stream",
          "name": "stdout",
          "text": [
            "mobitel\n",
            "bometil\n"
          ]
        }
      ]
    },
    {
      "cell_type": "markdown",
      "source": [
        "1292 success"
      ],
      "metadata": {
        "id": "bYQki3FQRlEk"
      }
    },
    {
      "cell_type": "code",
      "source": [
        "n, m = map(int, input().split())\n",
        "nu = []\n",
        "nn = 1\n",
        "ct = 0\n",
        "for i in range(m):\n",
        "    if ct == nn:\n",
        "        nn += 1\n",
        "        ct = 1\n",
        "    else:\n",
        "        ct += 1\n",
        "    nu.append(nn)\n",
        "print(sum(nu[n-1:]))"
      ],
      "metadata": {
        "colab": {
          "base_uri": "https://localhost:8080/"
        },
        "id": "vrUTJvsbRlOJ",
        "outputId": "505aae7a-3051-4bdb-dcc8-024c938f19c4"
      },
      "execution_count": null,
      "outputs": [
        {
          "output_type": "stream",
          "name": "stdout",
          "text": [
            "3 7\n",
            "15\n"
          ]
        }
      ]
    },
    {
      "cell_type": "markdown",
      "source": [
        "1308 success\n"
      ],
      "metadata": {
        "id": "H8ykxpJjBoo9"
      }
    },
    {
      "cell_type": "code",
      "source": [
        "import datetime\n",
        "y_1, m_1, d_1 = map(int, input().split())\n",
        "y_2, m_2, d_2 = map(int, input().split())\n",
        "a = datetime.datetime(y_1, m_1, d_1)\n",
        "b = datetime.datetime(y_2, m_2, d_2)\n",
        "if (b-a).days >= 365243:\n",
        "    print('gg')\n",
        "else:\n",
        "    print(f'D-{(b-a).days}')"
      ],
      "metadata": {
        "colab": {
          "base_uri": "https://localhost:8080/"
        },
        "id": "7fD6G6alBo5J",
        "outputId": "7a024f9d-edbd-4546-9243-62ad29da42b7"
      },
      "execution_count": null,
      "outputs": [
        {
          "output_type": "stream",
          "name": "stdout",
          "text": [
            "2008 12 27\n",
            "2009 1 22\n",
            "D-26\n"
          ]
        }
      ]
    },
    {
      "cell_type": "markdown",
      "source": [
        "1312 success"
      ],
      "metadata": {
        "id": "ns9pDR1QF1u9"
      }
    },
    {
      "cell_type": "code",
      "source": [
        "a,b,n = map(int, input().split())\n",
        "a %= b\n",
        "for i in range(n-1):\n",
        "    a = (a*10) % b\n",
        "    \n",
        "print((a*10) // b)"
      ],
      "metadata": {
        "colab": {
          "base_uri": "https://localhost:8080/"
        },
        "id": "kJ4WdhadF149",
        "outputId": "52ffd0f9-04da-4691-cf56-f88ff752cfd9"
      },
      "execution_count": null,
      "outputs": [
        {
          "output_type": "stream",
          "name": "stdout",
          "text": [
            "1 1 1\n",
            "0\n"
          ]
        }
      ]
    },
    {
      "cell_type": "markdown",
      "source": [
        "1331 fail"
      ],
      "metadata": {
        "id": "lvPgQMpqRzvH"
      }
    },
    {
      "cell_type": "code",
      "source": [
        "road = []\n",
        "re = 1\n",
        "for _ in range(36):\n",
        "    road.append(input())\n",
        "road_s = list(set(road))\n",
        "if len(road_s) != 36:\n",
        "    print('Invalid')\n",
        "    exit()\n",
        "for i in range(35):\n",
        "    if abs(ord(road[i][0])-ord(road[i+1][0])) < 3 and abs(int(road[i][1])-int(road[i+1][1])) < 3 and abs(ord(road[i][0])-ord(road[i+1][0])) + abs(int(road[i][1])-int(road[i+1][1])) == 3:\n",
        "        continue \n",
        "    else:\n",
        "        re = 0\n",
        "        break\n",
        "if re :\n",
        "    print('Valid')\n",
        "else:\n",
        "    print('Invalid')      "
      ],
      "metadata": {
        "id": "P7zCOxqYRzFP"
      },
      "execution_count": null,
      "outputs": []
    },
    {
      "cell_type": "markdown",
      "source": [
        "1343 success"
      ],
      "metadata": {
        "id": "1QjJr976aaOn"
      }
    },
    {
      "cell_type": "code",
      "source": [
        "bor = input()\n",
        "bor_1 = []\n",
        "st = bor[0]\n",
        "a = ''\n",
        "for i in bor:\n",
        "    if st == i:\n",
        "        a += i \n",
        "    else:\n",
        "        bor_1.append(a)\n",
        "        st = i\n",
        "        a = ''\n",
        "        a += i\n",
        "bor_1.append(a)\n",
        "re = 1\n",
        "for i in range(len(bor_1)):\n",
        "    if bor_1[i][0] == 'X':\n",
        "        if len(bor_1[i]) % 2 == 1:\n",
        "            re = 0\n",
        "        else:\n",
        "            aa =''\n",
        "            ln = len(bor_1[i])\n",
        "            while ln != 0:\n",
        "                if ln > 2:\n",
        "                    aa += 'AAAA'\n",
        "                    ln -= 4\n",
        "                else:\n",
        "                    aa += 'BB'\n",
        "                    ln -= 2\n",
        "            bor_1[i] = aa\n",
        "if re:\n",
        "    print(''.join(bor_1))\n",
        "else:\n",
        "    print(-1)"
      ],
      "metadata": {
        "colab": {
          "base_uri": "https://localhost:8080/"
        },
        "id": "4VSjfskhaaX1",
        "outputId": "34361db8-8629-4947-89c9-3da754630816"
      },
      "execution_count": null,
      "outputs": [
        {
          "output_type": "stream",
          "name": "stdout",
          "text": [
            "..XX.XXXXXXXXXX..XXXXXXXX...XXXXXX\n",
            "..BB.AAAAAAAABB..AAAAAAAA...AAAABB\n"
          ]
        }
      ]
    },
    {
      "cell_type": "markdown",
      "source": [
        "1417 success"
      ],
      "metadata": {
        "id": "ArRD_MUk7k7H"
      }
    },
    {
      "cell_type": "code",
      "source": [
        "n = int(input())\n",
        "no_1 = int(input())\n",
        "no_a = [int(input()) for _ in range(n-1)]\n",
        "if n == 1:\n",
        "    print(0)\n",
        "else:\n",
        "    ct = 0\n",
        "    while no_1 <= max(no_a):\n",
        "        idd = no_a.index(max(no_a))\n",
        "        no_a[idd] -= 1\n",
        "        no_1 += 1\n",
        "        ct += 1\n",
        "    print(ct)"
      ],
      "metadata": {
        "colab": {
          "base_uri": "https://localhost:8080/"
        },
        "id": "rfQEONJ27lBj",
        "outputId": "b8b37b3a-e737-4bef-c2ad-697e0895b9c0"
      },
      "execution_count": null,
      "outputs": [
        {
          "output_type": "stream",
          "name": "stdout",
          "text": [
            "5\n",
            "5\n",
            "10\n",
            "7\n",
            "3\n",
            "8\n",
            "4\n"
          ]
        }
      ]
    },
    {
      "cell_type": "markdown",
      "source": [
        "1439 success"
      ],
      "metadata": {
        "id": "HmhRlahUAmMQ"
      }
    },
    {
      "cell_type": "code",
      "source": [
        "bitt = input()\n",
        "bitt_0 = bitt[0]\n",
        "box_0 = []\n",
        "box_1 = []\n",
        "box_00 = ''\n",
        "box_11 = ''\n",
        "for i in range(len(bitt)):\n",
        "    if bitt[i] == '0':        \n",
        "        if bitt_0 == '0':\n",
        "            box_00 += '0'\n",
        "        else:\n",
        "            bitt_0 = '0'\n",
        "            box_00 = '0'\n",
        "            box_1.append(box_11)\n",
        "    else:        \n",
        "        if bitt_0 == '1':\n",
        "            box_11 += '1'\n",
        "        else:\n",
        "            bitt_0 = '1'\n",
        "            box_11 = '1'\n",
        "            box_0.append(box_00)\n",
        "if bitt_0 == '0':\n",
        "    box_0.append(box_00)\n",
        "else:\n",
        "    box_1.append(box_11)\n",
        "print(min(len(box_0),len(box_1)))"
      ],
      "metadata": {
        "colab": {
          "base_uri": "https://localhost:8080/"
        },
        "id": "_vQReuR2ApH-",
        "outputId": "dba80fe3-b159-4325-90b1-f553182d19a2"
      },
      "execution_count": null,
      "outputs": [
        {
          "output_type": "stream",
          "name": "stdout",
          "text": [
            "11101101\n",
            "2\n"
          ]
        }
      ]
    },
    {
      "cell_type": "markdown",
      "source": [
        "1459 success"
      ],
      "metadata": {
        "id": "TY71V6zLJhmy"
      }
    },
    {
      "cell_type": "code",
      "source": [
        ""
      ],
      "metadata": {
        "id": "92ACQpj1ZQRI"
      },
      "execution_count": null,
      "outputs": []
    },
    {
      "cell_type": "code",
      "source": [
        "x, y, w, s = map(int, input().split())\n",
        "time_d = 0\n",
        "if 2*w < s:\n",
        "    time_d = w*(x+y)\n",
        "else:\n",
        "    if 2*w > 2*s:\n",
        "        time_d += s * (min(x,y))\n",
        "        if abs(x-y) % 2 == 0:\n",
        "            time_d += s *(abs(x-y))\n",
        "        else:\n",
        "            time_d += s *(abs(x-y)-1) + w\n",
        "    else:\n",
        "        time_d = s * (min(x,y)) + w * (abs(x-y))\n",
        "print(time_d)"
      ],
      "metadata": {
        "colab": {
          "base_uri": "https://localhost:8080/"
        },
        "id": "WPzZgN_uMH7j",
        "outputId": "34bad4ab-9853-4e80-db12-0e604dcdbe93"
      },
      "execution_count": null,
      "outputs": [
        {
          "output_type": "stream",
          "name": "stdout",
          "text": [
            "135 122 43 29\n",
            "3929\n"
          ]
        }
      ]
    },
    {
      "cell_type": "markdown",
      "source": [
        "1475 success"
      ],
      "metadata": {
        "id": "ULcoO6ycZGlb"
      }
    },
    {
      "cell_type": "code",
      "source": [
        "nu = [1]*10\n",
        "ct = 1\n",
        "n = input()\n",
        "def plus_nu():\n",
        "    global ct\n",
        "    for i in range(10):\n",
        "        nu[i] += 1\n",
        "    ct += 1\n",
        "for i in n:\n",
        "    i = int(i)\n",
        "    if i == 6 or i == 9:\n",
        "        if nu[6] != 0:\n",
        "            nu[6] -= 1\n",
        "        elif nu[9] != 0:\n",
        "            nu[9] -= 1\n",
        "        else:\n",
        "            plus_nu()\n",
        "            nu[6] -= 1\n",
        "    else:\n",
        "        if nu[i] != 0:\n",
        "            nu[i] -= 1\n",
        "        else:\n",
        "            plus_nu()\n",
        "            nu[i] -= 1\n",
        "print(ct)"
      ],
      "metadata": {
        "colab": {
          "base_uri": "https://localhost:8080/"
        },
        "id": "JHxcC7XD55Hq",
        "outputId": "3d1e3da2-8cc3-485a-dd4c-3c261aa9eb93"
      },
      "execution_count": null,
      "outputs": [
        {
          "output_type": "stream",
          "name": "stdout",
          "text": [
            "888888\n",
            "6\n"
          ]
        }
      ]
    },
    {
      "cell_type": "markdown",
      "source": [
        "1476 success"
      ],
      "metadata": {
        "id": "SyIFDmLQLgr0"
      }
    },
    {
      "cell_type": "code",
      "source": [
        "e, s, m = map(int, input().split())\n",
        "ee, ss, mm = 0, 0, 0\n",
        "re = 0\n",
        "while e != ee or s != ss or m != mm:\n",
        "    re += 1\n",
        "    if (ee +1) % 15 == 0 :\n",
        "        ee = 15\n",
        "    else:\n",
        "        ee = (ee + 1) % 15\n",
        "    if (ss +1) % 28 == 0 :\n",
        "        ss = 28\n",
        "    else:\n",
        "        ss = (ss + 1) % 28\n",
        "    if (mm +1) % 19 == 0 :\n",
        "        mm= 19\n",
        "    else:\n",
        "        mm = (mm + 1) % 19\n",
        "print(re)"
      ],
      "metadata": {
        "colab": {
          "base_uri": "https://localhost:8080/"
        },
        "id": "JNNOWc1zlxSp",
        "outputId": "c2964837-831b-4c40-f09f-455c39b1d46a"
      },
      "execution_count": null,
      "outputs": [
        {
          "output_type": "stream",
          "name": "stdout",
          "text": [
            "1 16 16\n",
            "16\n"
          ]
        }
      ]
    },
    {
      "cell_type": "markdown",
      "source": [
        "1531 success"
      ],
      "metadata": {
        "id": "T6MUhZj8wtSe"
      }
    },
    {
      "cell_type": "code",
      "source": [
        "n, m = map(int, input().split())\n",
        "imag = [[0]*100 for _ in range(100)]\n",
        "re = 0\n",
        "for _ in range(n):\n",
        "    x_1, y_1, x_2, y_2 = map(int, input().split())\n",
        "    for i in range(y_1, y_2+1):\n",
        "        for j in range(x_1, x_2+1):\n",
        "            imag[i][j] += 1\n",
        "for i in range(100):\n",
        "    for j in range(100): \n",
        "        if imag[i][j] > m:\n",
        "            re += 1\n",
        "print(re)"
      ],
      "metadata": {
        "colab": {
          "base_uri": "https://localhost:8080/"
        },
        "id": "OqeFMA3Nwtzo",
        "outputId": "8d1d6cda-b304-4efa-b58e-401a49bfbfd9"
      },
      "execution_count": null,
      "outputs": [
        {
          "output_type": "stream",
          "name": "stdout",
          "text": [
            "3 1\n",
            "21 21 80 80\n",
            "41 41 60 60\n",
            "71 71 90 90\n",
            "500\n"
          ]
        }
      ]
    },
    {
      "cell_type": "markdown",
      "source": [
        "1622 success"
      ],
      "metadata": {
        "id": "EtA7kHzD8QBO"
      }
    },
    {
      "cell_type": "code",
      "source": [
        "while 1:\n",
        "    try:\n",
        "        a_1 = input()\n",
        "        b_1 = input()\n",
        "        a = [i for i in a_1]\n",
        "        b = [i for i in b_1]\n",
        "        re = []\n",
        "        for i in a:\n",
        "            if i in b:\n",
        "                re.append(i)\n",
        "                b.remove(i)\n",
        "        print(','.join(sorted(re)).replace(',',''))\n",
        "    except:\n",
        "        break"
      ],
      "metadata": {
        "colab": {
          "base_uri": "https://localhost:8080/"
        },
        "id": "YSF__eUY8QG9",
        "outputId": "5518115a-887e-464e-9058-67e4f4be05e7"
      },
      "execution_count": null,
      "outputs": [
        {
          "output_type": "stream",
          "name": "stdout",
          "text": [
            "weer\n",
            "ytee\n",
            "ee\n"
          ]
        }
      ]
    },
    {
      "cell_type": "markdown",
      "source": [
        "1730 fail"
      ],
      "metadata": {
        "id": "vJkVsfD-01vK"
      }
    },
    {
      "cell_type": "code",
      "source": [
        "n = int(input())\n",
        "pan = [['.']*n for _ in range(n)]\n",
        "order = input()\n",
        "x_y_o = [0,0]\n",
        "x_y = [0,0]\n",
        "ct = 0\n",
        "for i in range(len(order)):\n",
        "    if ct == 0:\n",
        "        if order[i] == 'U':\n",
        "            if x_y[0] - 1 != -1:             \n",
        "                pan[x_y[0]][x_y[1]] = '|'\n",
        "                x_y[0] = x_y[0] - 1\n",
        "                ct = 1\n",
        "            else:\n",
        "                continue\n",
        "        elif order[i] == 'D':\n",
        "            if x_y[0] + 1 != n:\n",
        "                pan[x_y[0]][x_y[1]] = '|'\n",
        "                x_y[0] = x_y[0] + 1\n",
        "                ct = 1\n",
        "            else:\n",
        "                continue\n",
        "        elif order[i] == 'L':\n",
        "            if x_y[1] - 1 != -1:\n",
        "                pan[x_y[0]][x_y[1]] = '-'\n",
        "                x_y[1] = x_y[1] - 1\n",
        "                ct = 1\n",
        "            else:\n",
        "                continue\n",
        "        elif order[i] == 'R':\n",
        "            if x_y[1] + 1 != n:\n",
        "                pan[x_y[0]][x_y[1]] = '-'\n",
        "                x_y[1] = x_y[1] + 1\n",
        "                ct = 1\n",
        "            else:\n",
        "                continue\n",
        "    elif order[i] == 'U':\n",
        "        if x_y[0] - 1 != -1:\n",
        "            if order[i-1] == 'U' or order[i-1] == 'D':\n",
        "                pan[x_y[0]][x_y[1]] = '|'\n",
        "            else:\n",
        "                pan[x_y[0]][x_y[1]] = '+'\n",
        "            x_y_o[0] = x_y[0]\n",
        "            x_y_o[1] = x_y[1]\n",
        "            x_y[0] = x_y[0] - 1\n",
        "            x_y[1] = x_y[1]\n",
        "        else:\n",
        "            continue\n",
        "    elif order[i] == 'D':\n",
        "        if x_y[0] + 1 != n:\n",
        "            if order[i-1] == 'U' or order[i-1] == 'D':\n",
        "                pan[x_y[0]][x_y[1]] = '|'\n",
        "            else:\n",
        "                pan[x_y[0]][x_y[1]] = '+'\n",
        "            x_y_o[0] = x_y[0]\n",
        "            x_y_o[1] = x_y[1]\n",
        "            x_y[0] = x_y[0] + 1\n",
        "            x_y[1] = x_y[1]\n",
        "        else:\n",
        "            continue\n",
        "    elif order[i] == 'L':\n",
        "        if x_y[1] - 1 != -1:\n",
        "            if order[i-1] == 'L' or order[i-1] == 'R':\n",
        "                pan[x_y[0]][x_y[1]] = '-'\n",
        "            else:\n",
        "                pan[x_y[0]][x_y[1]] = '+'\n",
        "            x_y_o[0] = x_y[0]\n",
        "            x_y_o[1] = x_y[1]\n",
        "            x_y[0] = x_y[0]\n",
        "            x_y[1] = x_y[1] - 1\n",
        "        else:\n",
        "            continue\n",
        "    elif order[i] == 'R':\n",
        "        if x_y[1] + 1 != n:\n",
        "            if order[i-1] == 'L' or order[i-1] == 'R':\n",
        "                pan[x_y[0]][x_y[1]] = '-'\n",
        "            else:\n",
        "                pan[x_y[0]][x_y[1]] = '+'\n",
        "            x_y_o[0] = x_y[0]\n",
        "            x_y_o[1] = x_y[1]\n",
        "            x_y[0] = x_y[0]\n",
        "            x_y[1] = x_y[1] + 1\n",
        "        else:\n",
        "            continue\n",
        "            \n",
        "if order[-1] =='U' or order[-1] == 'D': \n",
        "    pan[x_y[0]][x_y[1]] = '|'\n",
        "else:\n",
        "    pan[x_y[0]][x_y[1]] = '-'\n",
        "for i in pan:\n",
        "    print(','.join(i).replace(',',''))"
      ],
      "metadata": {
        "colab": {
          "base_uri": "https://localhost:8080/"
        },
        "id": "ZCpsrBIi010_",
        "outputId": "617bd4ec-6710-4966-fd41-ee9e93c468c4"
      },
      "execution_count": null,
      "outputs": [
        {
          "output_type": "stream",
          "name": "stdout",
          "text": [
            "5\n",
            "DRDRRUU\n",
            "|..|.\n",
            "++.|.\n",
            ".+-+.\n",
            ".....\n",
            ".....\n"
          ]
        }
      ]
    },
    {
      "cell_type": "markdown",
      "source": [
        "1769 success"
      ],
      "metadata": {
        "id": "LIvzBZL31Hty"
      }
    },
    {
      "cell_type": "code",
      "source": [
        "n = input()\n",
        "n_re = 0\n",
        "ct = 0\n",
        "def nnn(n):\n",
        "    global ct\n",
        "    global n_re\n",
        "    if len(n) == 1:\n",
        "        n_re = n\n",
        "        return \n",
        "    else:\n",
        "        sum_n = 0\n",
        "        for i in n:\n",
        "            sum_n += int(i)\n",
        "        ct += 1\n",
        "        return nnn(str(sum_n))\n",
        "nnn(n)\n",
        "if n_re == '3' or n_re == '6' or n_re == '9':\n",
        "    print(ct)\n",
        "    print('YES')\n",
        "else:\n",
        "    print(ct)\n",
        "    print('NO')"
      ],
      "metadata": {
        "colab": {
          "base_uri": "https://localhost:8080/"
        },
        "id": "28kghcA_1H2o",
        "outputId": "8a1457bd-60dc-42d8-891c-2bcc9b0b1997"
      },
      "execution_count": null,
      "outputs": [
        {
          "output_type": "stream",
          "name": "stdout",
          "text": [
            "693\n",
            "2\n",
            "YES\n"
          ]
        }
      ]
    },
    {
      "cell_type": "markdown",
      "source": [
        "1789 success"
      ],
      "metadata": {
        "id": "PxAIhT5Z7-EU"
      }
    },
    {
      "cell_type": "code",
      "source": [
        "n = int(input())\n",
        "su = 0\n",
        "plu = 0\n",
        "ct = 0\n",
        "while 1:\n",
        "    if su == n:\n",
        "        break\n",
        "    elif su < n:\n",
        "        plu += 1\n",
        "        su += plu\n",
        "        ct += 1\n",
        "    elif su > n:\n",
        "        ct -= 1\n",
        "        break\n",
        "print(ct)"
      ],
      "metadata": {
        "colab": {
          "base_uri": "https://localhost:8080/"
        },
        "id": "Ux4kuKDk8CP0",
        "outputId": "e6d993d0-d0a1-4541-f123-8b64a60875db"
      },
      "execution_count": null,
      "outputs": [
        {
          "output_type": "stream",
          "name": "stdout",
          "text": [
            "200\n",
            "19\n"
          ]
        }
      ]
    },
    {
      "cell_type": "markdown",
      "source": [
        "1816 success"
      ],
      "metadata": {
        "id": "wxdV6MC9EBp9"
      }
    },
    {
      "cell_type": "code",
      "source": [
        "sosu = [0]+[1]*(10**6)\n",
        "for i in range(2,int((10**6)**0.5)+1) :\n",
        "    if sosu[i]:\n",
        "        for j in range(i+i, 10**6+1, i):\n",
        "            sosu[j] = 0\n",
        "for _ in range(int(input())):\n",
        "    s = int(input())\n",
        "    re = 0\n",
        "    for i in range(2, int(10**6)+1):\n",
        "        if sosu[i]:\n",
        "            if s % i == 0:\n",
        "                re = 1\n",
        "                break \n",
        "    if re:\n",
        "        print('NO')\n",
        "    else:\n",
        "        print('YES')"
      ],
      "metadata": {
        "colab": {
          "base_uri": "https://localhost:8080/"
        },
        "id": "EjsJatO7EBat",
        "outputId": "632d6a8f-5953-45c8-ecce-b4598ee554ae"
      },
      "execution_count": null,
      "outputs": [
        {
          "output_type": "stream",
          "name": "stdout",
          "text": [
            "3\n",
            "1000036000099\n",
            "YES\n",
            "1500035500153\n",
            "NO\n",
            "20000000000002\n",
            "NO\n"
          ]
        }
      ]
    },
    {
      "cell_type": "markdown",
      "source": [
        "1817 success"
      ],
      "metadata": {
        "id": "fzYb-8Q5Kz59"
      }
    },
    {
      "cell_type": "code",
      "source": [
        "n, m = map(int, input().split())\n",
        "if n == 0:\n",
        "    print(0)\n",
        "else:\n",
        "    book = list(map(int, input().split()))[::-1]\n",
        "    ct = 1\n",
        "    box = 0\n",
        "    for i in book:\n",
        "        box += i\n",
        "        if box > m:\n",
        "            ct += 1\n",
        "            box = i\n",
        "    print(ct)"
      ],
      "metadata": {
        "colab": {
          "base_uri": "https://localhost:8080/"
        },
        "id": "CCus8-OUK0B7",
        "outputId": "7e78350f-8133-406e-e2d9-4dc777f93456"
      },
      "execution_count": null,
      "outputs": [
        {
          "output_type": "stream",
          "name": "stdout",
          "text": [
            "11 12\n",
            "12 1 11 2 10 3 4 5 6 6 1\n",
            "6\n"
          ]
        }
      ]
    },
    {
      "cell_type": "markdown",
      "source": [
        "1907 success"
      ],
      "metadata": {
        "id": "Lg811pQVNz6O"
      }
    },
    {
      "cell_type": "code",
      "source": [
        "n_12, n_3 = input().split('=')\n",
        "n_1, n_2 = n_12.split('+')\n",
        "def CHO(xx):\n",
        "    c, h, o = 0, 0, 0\n",
        "    for i in range(len(xx)):\n",
        "        if i == len(xx)-1:\n",
        "            if xx[i] == 'C':\n",
        "                c += 1\n",
        "            elif xx[i] == 'H':\n",
        "                h += 1\n",
        "            elif xx[i] == 'O':\n",
        "                o += 1\n",
        "        elif xx[i] == 'C' or xx[i] == 'H' or xx[i] == 'O':\n",
        "            if xx[i+1] != 'C' and xx[i+1] != 'H' and xx[i+1] != 'O' :\n",
        "                if xx[i] == 'C':\n",
        "                    c += int(xx[i+1])\n",
        "                elif xx[i] == 'H':\n",
        "                    h += int(xx[i+1])\n",
        "                elif xx[i] == 'O':\n",
        "                    o += int(xx[i+1])\n",
        "            else:\n",
        "                if xx[i] == 'C':\n",
        "                    c += 1\n",
        "                elif xx[i] == 'H':\n",
        "                    h += 1\n",
        "                elif xx[i] == 'O':\n",
        "                    o += 1\n",
        "        else:\n",
        "            continue\n",
        "    return [c, h, o]\n",
        "a = CHO(n_1)\n",
        "b = CHO(n_2)\n",
        "c = CHO(n_3)\n",
        "ib = 0\n",
        "jb = 0\n",
        "for i in range(1, 11):\n",
        "    for j in range(1, 11):\n",
        "        cc = []\n",
        "        for l in range(3):\n",
        "            cc.append(a[l]*i+b[l]*j)\n",
        "        for k in range(1, 11):                      \n",
        "            ck = []\n",
        "            for m in range(3):\n",
        "                ck.append(c[m]*k)\n",
        "            if cc == ck :\n",
        "                print(i, j, k)\n",
        "                ib, jb = 1, 1\n",
        "                break\n",
        "        if jb:\n",
        "            break\n",
        "    if ib:\n",
        "        break"
      ],
      "metadata": {
        "colab": {
          "base_uri": "https://localhost:8080/"
        },
        "id": "4cgN0wS9N06D",
        "outputId": "707a28f6-7d3d-4a06-c35c-d9345f7a353f"
      },
      "execution_count": null,
      "outputs": [
        {
          "output_type": "stream",
          "name": "stdout",
          "text": [
            "HO3H2+O=H2O2O2\n",
            "2 6 3\n"
          ]
        }
      ]
    },
    {
      "cell_type": "markdown",
      "source": [
        "1925 fail"
      ],
      "metadata": {
        "id": "pMD2QKI7iXFa"
      }
    },
    {
      "cell_type": "code",
      "source": [
        "import math\n",
        "import matplotlib.pyplot as plt\n",
        "x1, y1 = map(int, input().split())\n",
        "x2, y2 = map(int, input().split())\n",
        "x3, y3 = map(int, input().split())\n",
        "try:\n",
        "    e1 = ((x2-x1)**2 + (y2-y1)**2)**0.5\n",
        "    e2 = ((x3-x2)**2 + (y3-y2)**2)**0.5\n",
        "    e3 = ((x1-x3)**2 + (y1-y3)**2)**0.5\n",
        "    e = sorted([e1, e2, e3])\n",
        "    if (x1==x2 and y1==y2) or (x2==x3 and y2==y3) or (x3==x1 and y3==y1):\n",
        "        print('X')\n",
        "    elif x1==x2==x3 or y1==y2==y3:\n",
        "        print('X')\n",
        "    elif e[0] + e[1] <= e[2]:\n",
        "        print('X')\n",
        "    elif abs(y2-y1)/abs(x2-x1) == abs(y3-y2)/abs(x3-x2) == abs(y1-y3)/abs(x1-x3):\n",
        "        print('X')\n",
        "    else:\n",
        "        a1 = round(math.degrees(math.acos ((e1*e1 - e2*e2 -e3*e3)/(-2*e2*e3))))\n",
        "        a2 = round(math.degrees(math.acos ((e2*e2 - e1*e1 -e3*e3)/(-2*e1*e3))))\n",
        "        a3 = round(math.degrees(math.acos ((e3*e3 - e2*e2 -e1*e1)/(-2*e1*e2))))\n",
        "        if e1 == e2 == e3:\n",
        "            print('JungTriangle')\n",
        "        elif e1 == e2 or e2 == e3 or e3 == e1:\n",
        "            if max(a1, a2, a3) > 90:\n",
        "                print('Dunkak2Triangle')\n",
        "            elif max(a1, a2, a3) == 90:\n",
        "                print('Jikkak2Triangle')\n",
        "            elif max(a1, a2, a3) < 90:\n",
        "                print('Yeahkak2Triangle')\n",
        "        else :\n",
        "            if max(a1, a2, a3) > 90:\n",
        "                print('DunkakTriangle')\n",
        "            elif max(a1, a2, a3) == 90:\n",
        "                print('JikkakTriangle')\n",
        "            elif max(a1, a2, a3) < 90:\n",
        "                print('YeahkakTriangle')\n",
        "except:\n",
        "    e1 = ((x2-x1)**2 + (y2-y1)**2)**0.5\n",
        "    e2 = ((x3-x2)**2 + (y3-y2)**2)**0.5\n",
        "    e3 = ((x1-x3)**2 + (y1-y3)**2)**0.5\n",
        "    a1 = round(math.degrees(math.acos ((e1*e1 - e2*e2 -e3*e3)/(-2*e2*e3))))\n",
        "    a2 = round(math.degrees(math.acos ((e2*e2 - e1*e1 -e3*e3)/(-2*e1*e3))))\n",
        "    a3 = round(math.degrees(math.acos ((e3*e3 - e2*e2 -e1*e1)/(-2*e1*e2))))\n",
        "    if e1 == e2 == e3:\n",
        "        print('JungTriangle')\n",
        "    elif e1 == e2 or e2 == e3 or e3 == e1:\n",
        "        if max(a1, a2, a3) > 90:\n",
        "            print('Dunkak2Triangle')\n",
        "        elif max(a1, a2, a3) == 90:\n",
        "            print('Jikkak2Triangle')\n",
        "        elif max(a1, a2, a3) < 90:\n",
        "            print('Yeahkak2Triangle')\n",
        "    else :\n",
        "        if max(a1, a2, a3) > 90:\n",
        "            print('DunkakTriangle')\n",
        "        elif max(a1, a2, a3) == 90:\n",
        "            print('JikkakTriangle')\n",
        "        elif max(a1, a2, a3) < 90:\n",
        "            print('YeahkakTriangle')\n",
        "\n",
        "plt.plot([x1,x2],[y1,y2])\n",
        "plt.plot([x2,x3],[y2,y3])\n",
        "plt.plot([x3,x1],[y3,y1])\n",
        "plt.show()"
      ],
      "metadata": {
        "colab": {
          "base_uri": "https://localhost:8080/",
          "height": 338
        },
        "id": "4egJ8NDriYm5",
        "outputId": "3f5900c0-a4f6-4d94-8645-aaffb3f0f971"
      },
      "execution_count": null,
      "outputs": [
        {
          "output_type": "stream",
          "name": "stdout",
          "text": [
            "1 1\n",
            "2 2\n",
            "3 3\n",
            "X\n"
          ]
        },
        {
          "output_type": "display_data",
          "data": {
            "image/png": "[encoded data removed]",
            "text/plain": [
              "<Figure size 432x288 with 1 Axes>"
            ]
          },
          "metadata": {
            "needs_background": "light"
          }
        }
      ]
    },
    {
      "cell_type": "markdown",
      "source": [
        "1934 success"
      ],
      "metadata": {
        "id": "oLJAee-xZCB-"
      }
    },
    {
      "cell_type": "code",
      "source": [
        "for _ in range(int(input())):\n",
        "    nu = list(map(int, input().split()))\n",
        "    a = min(nu)\n",
        "    b = max(nu)\n",
        "    s = b // a\n",
        "    for i in range(1, 45001):\n",
        "        if (b * i) % a == 0:\n",
        "            print(i*b)\n",
        "            break"
      ],
      "metadata": {
        "colab": {
          "base_uri": "https://localhost:8080/"
        },
        "id": "wbpEIStbZJdN",
        "outputId": "2a3e93c0-fd07-4d3b-d932-82c425ebf460"
      },
      "execution_count": null,
      "outputs": [
        {
          "output_type": "stream",
          "name": "stdout",
          "text": [
            "3\n",
            "1 45000\n",
            "45000\n",
            "6 10\n",
            "30\n",
            "13 17\n",
            "221\n"
          ]
        }
      ]
    },
    {
      "cell_type": "markdown",
      "source": [
        "1969 success"
      ],
      "metadata": {
        "id": "XJ5ag4l4DN8v"
      }
    },
    {
      "cell_type": "code",
      "source": [
        "n, m = map(int, input().split())\n",
        "dna = [input() for _ in range(n)]\n",
        "dna_r = []\n",
        "re = ''\n",
        "for i in range(m):\n",
        "    dn = ''\n",
        "    for j in range(n):\n",
        "        dn += dna[j][i]\n",
        "    dna_r.append(dn)\n",
        "for i in range(m):\n",
        "    dna_c = {'A':0, 'C':0, 'G':0, 'T':0}\n",
        "    dna_c['A'] = dna_r[i].count('A')\n",
        "    dna_c['C'] = dna_r[i].count('C')\n",
        "    dna_c['G'] = dna_r[i].count('G')\n",
        "    dna_c['T'] = dna_r[i].count('T')\n",
        "    ree = 'A'\n",
        "    ma = dna_c['A']\n",
        "    if dna_c['C'] > ma:\n",
        "        ree = 'C'\n",
        "        ma = dna_c['C']\n",
        "    if dna_c['G'] > ma:\n",
        "        ree = 'G'\n",
        "        ma = dna_c['G']\n",
        "    if dna_c['T'] > ma:\n",
        "        ree = 'T'\n",
        "    re += ree\n",
        "print(re)\n",
        "ct = 0\n",
        "for i in range(m):\n",
        "    for j in dna_r[i]:\n",
        "        if j != re[i]:\n",
        "            ct += 1\n",
        "print(ct)"
      ],
      "metadata": {
        "colab": {
          "base_uri": "https://localhost:8080/"
        },
        "id": "GU3TdF1hDRjO",
        "outputId": "1be82fb5-dbe8-4e69-8e94-840b19249910"
      },
      "execution_count": null,
      "outputs": [
        {
          "output_type": "stream",
          "name": "stdout",
          "text": [
            "6 10\n",
            "ATGTTACCAT\n",
            "AAGTTACGAT\n",
            "AACAAAGCAA\n",
            "AAGTTACCTT\n",
            "AAGTTACCAA\n",
            "TACTTACCAA\n",
            "AAGTTACCAA\n",
            "12\n"
          ]
        }
      ]
    },
    {
      "cell_type": "markdown",
      "source": [
        "2018 success"
      ],
      "metadata": {
        "id": "M8UFVX1mOOpb"
      }
    },
    {
      "cell_type": "code",
      "source": [
        "n = int(input())\n",
        "ct = 1\n",
        "a = 1\n",
        "b = 1\n",
        "while 1:\n",
        "    su = sum([i for i in range(a, b+1)])\n",
        "    if b == n and su == n:\n",
        "        break\n",
        "    elif su == n:\n",
        "        ct += 1\n",
        "        b += 1         \n",
        "    elif su < n:\n",
        "        b += 1\n",
        "    elif su > n:\n",
        "        a +=1\n",
        "print(ct)"
      ],
      "metadata": {
        "colab": {
          "base_uri": "https://localhost:8080/"
        },
        "id": "BXwCKnbMJzQS",
        "outputId": "f7d31894-5bf8-4517-f39c-8bd1841e5b30"
      },
      "execution_count": null,
      "outputs": [
        {
          "output_type": "stream",
          "name": "stdout",
          "text": [
            "15\n",
            "4\n"
          ]
        }
      ]
    },
    {
      "cell_type": "markdown",
      "source": [
        "2029 success"
      ],
      "metadata": {
        "id": "5NThQ-YmOuoS"
      }
    },
    {
      "cell_type": "code",
      "source": [
        "gb = ['A','X','B','C','X','D','X','E','F','X','G','X'] #12\n",
        "n = int(input())\n",
        "lis = [int(input()) for _ in range(n)]\n",
        "re = []\n",
        "for ii, i in enumerate(gb):\n",
        "    ij = ii\n",
        "    if i != 'X':\n",
        "        for j in lis:\n",
        "            ij += j\n",
        "            ij = ij % 12\n",
        "            if gb[ij] == 'X':\n",
        "                break\n",
        "        if gb[ij] != 'X':\n",
        "            re.append([i, gb[ij]])\n",
        "for i in re:\n",
        "    print(i[0], i[1])"
      ],
      "metadata": {
        "colab": {
          "base_uri": "https://localhost:8080/"
        },
        "id": "c-1qkzgHOu2z",
        "outputId": "a35c4fb7-25dd-4a6b-a000-7d2cb5af1079"
      },
      "execution_count": null,
      "outputs": [
        {
          "output_type": "stream",
          "name": "stdout",
          "text": [
            "7\n",
            "-2\n",
            "-1\n",
            "-2\n",
            "-2\n",
            "-2\n",
            "-1\n",
            "-2\n",
            "D D\n"
          ]
        }
      ]
    },
    {
      "cell_type": "markdown",
      "source": [
        "2057 success"
      ],
      "metadata": {
        "id": "0bQATKrVyqrB"
      }
    },
    {
      "cell_type": "code",
      "source": [
        "import math\n",
        "n = int(input())\n",
        "if n == 0:\n",
        "    n = -1\n",
        "fa = math.factorial(20)\n",
        "for i in range(20,0,-1):\n",
        "    fa = int(fa/i)\n",
        "    if n >= fa:\n",
        "        n -= fa\n",
        "if n == 0:\n",
        "    print('YES')\n",
        "else:\n",
        "    print('NO')"
      ],
      "metadata": {
        "colab": {
          "base_uri": "https://localhost:8080/"
        },
        "id": "EqIVIHvxytD6",
        "outputId": "6909a1c9-dc4b-4af3-9b44-820ecebf8b61"
      },
      "execution_count": null,
      "outputs": [
        {
          "output_type": "stream",
          "name": "stdout",
          "text": [
            "0\n",
            "NO\n"
          ]
        }
      ]
    },
    {
      "cell_type": "markdown",
      "source": [
        "2204 success"
      ],
      "metadata": {
        "id": "MKfThdAlMrCj"
      }
    },
    {
      "cell_type": "code",
      "source": [
        "while 1:\n",
        "    n = int(input())\n",
        "    if n == 0 :\n",
        "        break\n",
        "    ab = [input() for _ in range(n)]\n",
        "    AB = []\n",
        "    for i in ab:\n",
        "        AB.append(i.upper())\n",
        "    AB = sorted(AB)\n",
        "    for i in ab:\n",
        "        if i.upper() == AB[0]:\n",
        "            print(i)"
      ],
      "metadata": {
        "colab": {
          "base_uri": "https://localhost:8080/"
        },
        "id": "gHX0tpuEE7yQ",
        "outputId": "d4b944d2-c63f-4800-85b7-818176a39aa2"
      },
      "execution_count": null,
      "outputs": [
        {
          "name": "stdout",
          "output_type": "stream",
          "text": [
            "3\n",
            "Cat\n",
            "fat\n",
            "bAt\n",
            "bAt\n",
            "4\n",
            "call\n",
            "ball\n",
            "All\n",
            "Hall\n",
            "All\n",
            "0\n"
          ]
        }
      ]
    },
    {
      "cell_type": "markdown",
      "source": [
        "2238 fail"
      ],
      "metadata": {
        "id": "mh72SpcZRDCZ"
      }
    },
    {
      "cell_type": "code",
      "source": [
        "na = []\n",
        "oc = []\n",
        "ct = []\n",
        "u, n = map(int, input().split())\n",
        "for _ in range(n):\n",
        "    na1, oc1 = input().split()\n",
        "    na.append(na1)\n",
        "    oc.append(int(oc1))\n",
        "for i in oc:\n",
        "    if i > u:\n",
        "        ct.append(100000)\n",
        "    else:\n",
        "        ct.append(oc.count(i))\n",
        "\n",
        "ct_m = min(ct)\n",
        "li = []\n",
        "for j, i in enumerate(ct):\n",
        "    if i == ct_m:\n",
        "        li.append(j)\n",
        "\n",
        "if len(li) >= 2:\n",
        "    aa = []\n",
        "    for i in li:\n",
        "        aa.append(oc[i])\n",
        "    aaa = min(aa)\n",
        "    print(na[oc.index(aaa)], aaa)\n",
        "else:\n",
        "    print(na[li[0]], oc[li[0]])\n",
        "\n",
        "\n",
        "\n",
        "\n",
        "#a = []\n",
        "#for i in zip(na, oc, ct):\n",
        "#    a.append(i)\n"
      ],
      "metadata": {
        "colab": {
          "base_uri": "https://localhost:8080/"
        },
        "id": "rUQqkuCDRDKI",
        "outputId": "fc964546-3459-4305-c7b2-0c889620fe72"
      },
      "execution_count": null,
      "outputs": [
        {
          "output_type": "stream",
          "name": "stdout",
          "text": [
            "10 4\n",
            "CD 45\n",
            "CD 7\n",
            "CDw 7\n",
            "sdw 7\n",
            "CD 7\n"
          ]
        }
      ]
    },
    {
      "cell_type": "markdown",
      "source": [
        "2246 fail"
      ],
      "metadata": {
        "id": "kLDqTs6ho3l0"
      }
    },
    {
      "cell_type": "code",
      "source": [
        "n = int(input())\n",
        "lis = []\n",
        "for _ in range(n):\n",
        "    d, p = map(int, input().split())\n",
        "    dd = [d]\n",
        "    pp = [p]\n",
        "    for i in zip(dd, pp):\n",
        "        lis.append(i)\n",
        "re = []\n",
        "for i in range(n):\n",
        "            if lis[i][0] >= lis[j][0]:\n",
        "                if lis[i][1] > lis[j][1]:\n",
        "                    re.append(j)\n",
        "            if lis[i][1] >= lis[j][1]:\n",
        "                if lis[i][0] > lis[j][0]:\n",
        "                    re.append(j)\n",
        "print(len(set(re)))"
      ],
      "metadata": {
        "colab": {
          "base_uri": "https://localhost:8080/"
        },
        "id": "kCMqNseIo4w7",
        "outputId": "2f53a2a3-464e-446b-b80e-7f0c80f8a396"
      },
      "execution_count": null,
      "outputs": [
        {
          "output_type": "stream",
          "name": "stdout",
          "text": [
            "10\n",
            "400 822\n",
            "240 454\n",
            "548 548\n",
            "358 154\n",
            "154 872\n",
            "157 863\n",
            "157 451\n",
            "248 957\n",
            "278 548\n",
            "248 385\n",
            "7\n"
          ]
        }
      ]
    },
    {
      "cell_type": "markdown",
      "source": [
        "2303 success "
      ],
      "metadata": {
        "id": "HCSlHdCcwABL"
      }
    },
    {
      "cell_type": "code",
      "source": [
        "from itertools import permutations\n",
        "n = int(input())\n",
        "card =[]\n",
        "for _ in range(n):\n",
        "    ca = list(map(int, input().split()))\n",
        "    card.append(ca)\n",
        "def su(x):\n",
        "    card_per = list(permutations(x,3))\n",
        "    card_sum = []\n",
        "    for i in range(len(card_per)):\n",
        "        card_sum.append(sum(card_per[i]))\n",
        "    card_high = []\n",
        "    for i in card_sum:\n",
        "        card_high.append(i%10)\n",
        "    return max(card_high)\n",
        "ope = []\n",
        "for i in card:\n",
        "    ope.append(su(i))\n",
        "ope_m = max(ope)\n",
        "re = 0\n",
        "for i in range(len(ope)):\n",
        "    if ope[i] == ope_m:\n",
        "        re = i    \n",
        "print(re+1)"
      ],
      "metadata": {
        "colab": {
          "base_uri": "https://localhost:8080/"
        },
        "id": "XuVJsaddwAKs",
        "outputId": "a9bbdc82-2df8-4470-e3bd-e13b2ba1b342"
      },
      "execution_count": null,
      "outputs": [
        {
          "output_type": "stream",
          "name": "stdout",
          "text": [
            "3\n",
            "7 5 5 4 9\n",
            "1 1 1 1 1\n",
            "2 3 3 2 10\n",
            "0\n"
          ]
        }
      ]
    },
    {
      "cell_type": "markdown",
      "source": [
        "2422 fail"
      ],
      "metadata": {
        "id": "O_g3pqLt205f"
      }
    },
    {
      "cell_type": "code",
      "source": [
        "from itertools import combinations\n",
        "n, m = map(int, input().split())\n",
        "ice = [i for i in range(1,n+1)]\n",
        "ice39 = list(combinations(ice,3))\n",
        "hate = []\n",
        "for _ in range(m):\n",
        "    hate.append(list(map(int, input().split())))\n",
        "re = []\n",
        "for i in range(len(ice39)):\n",
        "    for j in range(len(hate)):\n",
        "        if (hate[j][0] in ice39[i]) and (hate[j][1] in ice39[i]):\n",
        "            re.append(ice39[i])\n",
        "print(len(ice39)-len(set(re)))"
      ],
      "metadata": {
        "colab": {
          "base_uri": "https://localhost:8080/",
          "height": 248
        },
        "id": "1IkbmtFS22DV",
        "outputId": "83b38a13-a3b8-4b1c-afea-6950b5223927"
      },
      "execution_count": null,
      "outputs": [
        {
          "output_type": "error",
          "ename": "ValueError",
          "evalue": "ignored",
          "traceback": [
            "\u001b[0;31m---------------------------------------------------------------------------\u001b[0m",
            "\u001b[0;31mValueError\u001b[0m                                Traceback (most recent call last)",
            "\u001b[0;32m<ipython-input-48-bc7a5d701a39>\u001b[0m in \u001b[0;36m<module>\u001b[0;34m()\u001b[0m\n\u001b[1;32m      1\u001b[0m \u001b[0;32mfrom\u001b[0m \u001b[0mitertools\u001b[0m \u001b[0;32mimport\u001b[0m \u001b[0mcombinations\u001b[0m\u001b[0;34m\u001b[0m\u001b[0;34m\u001b[0m\u001b[0m\n\u001b[0;32m----> 2\u001b[0;31m \u001b[0mn\u001b[0m\u001b[0;34m,\u001b[0m \u001b[0mm\u001b[0m \u001b[0;34m=\u001b[0m \u001b[0mmap\u001b[0m\u001b[0;34m(\u001b[0m\u001b[0mint\u001b[0m\u001b[0;34m,\u001b[0m \u001b[0minput\u001b[0m\u001b[0;34m(\u001b[0m\u001b[0;34m)\u001b[0m\u001b[0;34m.\u001b[0m\u001b[0msplit\u001b[0m\u001b[0;34m(\u001b[0m\u001b[0;34m)\u001b[0m\u001b[0;34m)\u001b[0m\u001b[0;34m\u001b[0m\u001b[0;34m\u001b[0m\u001b[0m\n\u001b[0m\u001b[1;32m      3\u001b[0m \u001b[0mice\u001b[0m \u001b[0;34m=\u001b[0m \u001b[0;34m[\u001b[0m\u001b[0mi\u001b[0m \u001b[0;32mfor\u001b[0m \u001b[0mi\u001b[0m \u001b[0;32min\u001b[0m \u001b[0mrange\u001b[0m\u001b[0;34m(\u001b[0m\u001b[0;36m1\u001b[0m\u001b[0;34m,\u001b[0m\u001b[0mn\u001b[0m\u001b[0;34m+\u001b[0m\u001b[0;36m1\u001b[0m\u001b[0;34m)\u001b[0m\u001b[0;34m]\u001b[0m\u001b[0;34m\u001b[0m\u001b[0;34m\u001b[0m\u001b[0m\n\u001b[1;32m      4\u001b[0m \u001b[0mice39\u001b[0m \u001b[0;34m=\u001b[0m \u001b[0mlist\u001b[0m\u001b[0;34m(\u001b[0m\u001b[0mcombinations\u001b[0m\u001b[0;34m(\u001b[0m\u001b[0mice\u001b[0m\u001b[0;34m,\u001b[0m\u001b[0;36m3\u001b[0m\u001b[0;34m)\u001b[0m\u001b[0;34m)\u001b[0m\u001b[0;34m\u001b[0m\u001b[0;34m\u001b[0m\u001b[0m\n\u001b[1;32m      5\u001b[0m \u001b[0mhate\u001b[0m \u001b[0;34m=\u001b[0m \u001b[0;34m[\u001b[0m\u001b[0;34m]\u001b[0m\u001b[0;34m\u001b[0m\u001b[0;34m\u001b[0m\u001b[0m\n",
            "\u001b[0;31mValueError\u001b[0m: not enough values to unpack (expected 2, got 0)"
          ]
        }
      ]
    },
    {
      "cell_type": "markdown",
      "source": [
        "2435 success"
      ],
      "metadata": {
        "id": "QnRAyBfmsGIQ"
      }
    },
    {
      "cell_type": "code",
      "source": [
        "n, k = map(int, input().split())\n",
        "tem = list(map(int, input().split()))\n",
        "re = []\n",
        "for i in range(n-k+1):\n",
        "    re.append(sum(tem[i:i+k]))\n",
        "print(max(re))"
      ],
      "metadata": {
        "colab": {
          "base_uri": "https://localhost:8080/"
        },
        "id": "WDTQ5QuUsIA4",
        "outputId": "aaa6fa36-0e26-4f12-9cd1-d437c61342f3"
      },
      "execution_count": null,
      "outputs": [
        {
          "output_type": "stream",
          "name": "stdout",
          "text": [
            "10 5\n",
            "3 -2 -4 -9 0 3 7 13 8 -3\n",
            "31\n"
          ]
        }
      ]
    },
    {
      "cell_type": "markdown",
      "source": [
        "2508 success"
      ],
      "metadata": {
        "id": "aBSEuI48ylX0"
      }
    },
    {
      "cell_type": "code",
      "source": [
        "for _ in range(int(input())):\n",
        "    _ = input()\n",
        "    candy = []\n",
        "    candy_t = []\n",
        "    r, c = map(int, input().split())\n",
        "    # if r,c < 3\n",
        "    for _ in range(r):\n",
        "        candy.append(input())\n",
        "    for i in range(c):\n",
        "        can_t = ''\n",
        "        for j in range(r):\n",
        "            can_t += candy[j][i]\n",
        "        candy_t.append(can_t)\n",
        "    def candy_m(lis,r,c):\n",
        "        dre = 0\n",
        "        for i in range(r):\n",
        "            for j in range(c-2):\n",
        "                if lis[i][j] == '>' and lis[i][j+1] == 'o' and lis[i][j+2] == '<' :\n",
        "                    dre += 1\n",
        "        return dre\n",
        "    def candy_m_t(lis,r,c):\n",
        "        dre = 0\n",
        "        for i in range(r):\n",
        "            for j in range(c-2):\n",
        "                if lis[i][j] == 'v' and lis[i][j+1] == 'o' and lis[i][j+2] == '^' :\n",
        "                    dre += 1\n",
        "        return dre\n",
        "    print(candy_m(candy,r,c) + candy_m_t(candy_t,c,r))"
      ],
      "metadata": {
        "colab": {
          "base_uri": "https://localhost:8080/"
        },
        "id": "PLLKnsrgyubz",
        "outputId": "d1067534-da0d-4ec5-ac1e-13674d3cf909"
      },
      "execution_count": null,
      "outputs": [
        {
          "output_type": "stream",
          "name": "stdout",
          "text": [
            "1\n",
            "\n",
            "5 4\n",
            ".>o<\n",
            "v.^.\n",
            "ooo.\n",
            "^.^.\n",
            ">o<<\n",
            "2 1\n"
          ]
        }
      ]
    },
    {
      "cell_type": "code",
      "source": [
        "for _ in range(int(input())):\n",
        "    _ = input()\n",
        "    candy = []\n",
        "    r, c = map(int, input().split())\n",
        "    for _ in range(r):\n",
        "        candy.append(input())\n",
        "    def candy_m(lis,r,c):\n",
        "        dre = 0\n",
        "        for i in range(r):\n",
        "            for j in range(c-2):\n",
        "                if lis[i][j] == '>' and lis[i][j+1] == 'o' and lis[i][j+2] == '<' :\n",
        "                    dre += 1\n",
        "        for i in range(c):\n",
        "            for j in range(r-2):\n",
        "                if lis[j][i] == 'v' and lis[j+1][i] == 'o' and lis[j+2][i] == '^' :\n",
        "                    dre += 1\n",
        "        return dre\n",
        "    print(candy_m(candy,r,c))"
      ],
      "metadata": {
        "colab": {
          "base_uri": "https://localhost:8080/"
        },
        "id": "4l30kVVR7jmu",
        "outputId": "764ad9fe-a662-4f4e-e50f-4267a4962670"
      },
      "execution_count": null,
      "outputs": [
        {
          "output_type": "stream",
          "name": "stdout",
          "text": [
            "1\n",
            "\n",
            "2 2\n",
            ">o\n",
            "<<\n",
            "0\n"
          ]
        }
      ]
    },
    {
      "cell_type": "markdown",
      "source": [
        "2535 success"
      ],
      "metadata": {
        "id": "2H-up9iukeCc"
      }
    },
    {
      "cell_type": "code",
      "source": [
        "n = int(input())\n",
        "ban = []\n",
        "no = []\n",
        "sco = []\n",
        "for _ in range(n):    \n",
        "    b, n, c = map(int, input().split())\n",
        "    ban.append(b)\n",
        "    no.append(n)\n",
        "    sco.append(c)\n",
        "ct = 0\n",
        "prize = [0] * len(set(ban))\n",
        "re = []\n",
        "ree = []\n",
        "while 1:\n",
        "    s_m = max(sco)\n",
        "    ii = sco.index(s_m)\n",
        "    if prize[ban[ii]-1] == 2:\n",
        "        del ban[ii]\n",
        "        del no[ii]\n",
        "        del sco[ii]\n",
        "    else:\n",
        "        prize[ban[ii]-1] += 1\n",
        "        re.append(ban[ii])\n",
        "        ree.append(no[ii])\n",
        "        del ban[ii]\n",
        "        del no[ii]\n",
        "        del sco[ii]\n",
        "    if sum(prize) == 3:\n",
        "        break\n",
        "for i in range(len(re)):\n",
        "    print(re[i], ree[i]) "
      ],
      "metadata": {
        "colab": {
          "base_uri": "https://localhost:8080/"
        },
        "id": "PZojyNKWk5cc",
        "outputId": "87dfad26-28f0-4d2a-c023-b66cda635263"
      },
      "execution_count": null,
      "outputs": [
        {
          "output_type": "stream",
          "name": "stdout",
          "text": [
            "9\n",
            "1 1 230\n",
            "1 2 210\n",
            "1 3 205\n",
            "2 1 100\n",
            "2 2 150\n",
            "3 1 175\n",
            "3 2 190\n",
            "3 3 180\n",
            "3 4 195\n",
            "1 1\n",
            "1 2\n",
            "3 4\n"
          ]
        }
      ]
    },
    {
      "cell_type": "markdown",
      "source": [
        "2578 success"
      ],
      "metadata": {
        "id": "5MBudQGF0Ceq"
      }
    },
    {
      "cell_type": "code",
      "source": [
        "bin_p = [[0,0,0,0,0],[0,0,0,0,0],[0,0,0,0,0],[0,0,0,0,0],[0,0,0,0,0]] #빙고판 검사용\n",
        "bin_m = []\n",
        "for _ in range(5): #참가자 빙고판\n",
        "    bin_m.append(list(map(str, input().split())))\n",
        "bin_t = []\n",
        "for _ in range(5): #사회자 부르는 순서\n",
        "    bin_t.append(list(map(str, input().split())))\n",
        "def te(): #빙고판 검사\n",
        "    re = 0\n",
        "    for i in range(5): #가로 검사\n",
        "        if sum(bin_p[i]) == 5:\n",
        "            re += 1\n",
        "    for i in range(5): #세로 검사\n",
        "        a = 0\n",
        "        for j in range(5):\n",
        "            a += bin_p[j][i]\n",
        "        if a == 5:\n",
        "            re += 1\n",
        "    b = 0 #대각선 검사 1\n",
        "    for i in range(5): \n",
        "        b += bin_p[i][i]\n",
        "    if b == 5:\n",
        "        re += 1\n",
        "    c = 0 #대각선 검사 2\n",
        "    for i in range(5): \n",
        "        c += bin_p[i][4-i]\n",
        "    if c == 5:\n",
        "        re += 1\n",
        "    return re\n",
        "for i in range(5): #사회자가 숫자를 하나씩 부름\n",
        "    for j in range(5):\n",
        "        ta = bin_t[i][j]\n",
        "        ij = 0\n",
        "        ii = 0\n",
        "        for k in range(5):\n",
        "            if ta in bin_m[k]:\n",
        "                ii = k\n",
        "                ij = bin_m[k].index(ta)\n",
        "        bin_p[ii][ij] = 1\n",
        "        if te() >= 3: # 테스트로 3줄이상 이면 종료\n",
        "            print(i*5+j+1)\n",
        "            break\n",
        "    if te() >= 3:\n",
        "        break"
      ],
      "metadata": {
        "colab": {
          "base_uri": "https://localhost:8080/"
        },
        "id": "ZpTdw1ty0EDB",
        "outputId": "14aa7fbf-4ace-4ea4-e0fb-963df3ac5dae"
      },
      "execution_count": null,
      "outputs": [
        {
          "output_type": "stream",
          "name": "stdout",
          "text": [
            "11 12 2 24 10\n",
            "16 1 13 3 25\n",
            "6 20 5 21 17\n",
            "19 4 8 14 9\n",
            "22 15 7 23 18\n",
            "5 10 7 16 2\n",
            "4 22 8 17 13\n",
            "3 18 1 6 25\n",
            "12 19 23 14 21\n",
            "11 24 9 20 15\n",
            "[[0, 0, 1, 0, 1], [1, 1, 1, 1, 1], [1, 0, 1, 0, 1], [0, 1, 1, 0, 0], [1, 0, 1, 0, 1]]\n",
            "15\n"
          ]
        }
      ]
    },
    {
      "cell_type": "markdown",
      "source": [
        "2609 success"
      ],
      "metadata": {
        "id": "lKhHJZqmxwlI"
      }
    },
    {
      "cell_type": "code",
      "source": [
        "import math\n",
        "a, b = map(int, input().split())\n",
        "print(math.gcd(a, b))\n",
        "print(math.lcm(a, b))"
      ],
      "metadata": {
        "colab": {
          "base_uri": "https://localhost:8080/"
        },
        "id": "0l9QV8aIx9he",
        "outputId": "ab1848b9-9d8f-461b-a46c-6467085d431c"
      },
      "execution_count": null,
      "outputs": [
        {
          "output_type": "stream",
          "name": "stdout",
          "text": [
            "10000 10\n",
            "10\n",
            "10000\n"
          ]
        }
      ]
    },
    {
      "cell_type": "markdown",
      "source": [
        "2628 success"
      ],
      "metadata": {
        "id": "GKWhrTZ3_Hp0"
      }
    },
    {
      "cell_type": "code",
      "source": [
        "a, b = map(int, input().split())\n",
        "aa = [[i for i in range(a+1)]]\n",
        "bb = [[i for i in range(b+1)]]\n",
        "def cuter(xx, n): #종이자르기\n",
        "    for i, ii in enumerate(xx):\n",
        "        if n in ii:\n",
        "            del xx[i]\n",
        "            xx.append([i for i in range(ii[0],n+1)])\n",
        "            xx.append([i for i in range(n,ii[-1]+1)])\n",
        "            break\n",
        "for _ in range(int(input())): #순서대로 cuter함수 사용\n",
        "    x, n = map(int, input().split())\n",
        "    if x == 1:\n",
        "        cuter(aa,n)\n",
        "    else:\n",
        "        cuter(bb,n)\n",
        "len_aa = [] #큰 조각 찾기\n",
        "len_bb = []\n",
        "for i in aa:\n",
        "    len_aa.append(len(i))\n",
        "for i in bb:\n",
        "    len_bb.append(len(i))\n",
        "print((max(len_aa)-1)*(max(len_bb)-1))"
      ],
      "metadata": {
        "colab": {
          "base_uri": "https://localhost:8080/"
        },
        "id": "RCxMX4y0_Hvb",
        "outputId": "7f88815c-4dce-4579-a443-26e4d0db8816"
      },
      "execution_count": null,
      "outputs": [
        {
          "output_type": "stream",
          "name": "stdout",
          "text": [
            "10 8\n",
            "3\n",
            "0 3\n",
            "1 4\n",
            "0 2\n",
            "30\n"
          ]
        }
      ]
    },
    {
      "cell_type": "markdown",
      "source": [
        "2635 success"
      ],
      "metadata": {
        "id": "7PSykcKVBalN"
      }
    },
    {
      "cell_type": "code",
      "source": [
        "n = int(input())\n",
        "ma = 0\n",
        "lis_re = []\n",
        "def n_li(n,x): #숫자 빼고 리스트 추가 재귀함수\n",
        "    a = n-x\n",
        "    if a < 0:\n",
        "        return\n",
        "    lis.append(a)\n",
        "    return n_li(x, a)\n",
        "for i in range(1,n+1): #숫자 하나씩 함수에 넣고 제일 긴리스트 추가\n",
        "    lis = []\n",
        "    lis.append(n)\n",
        "    lis.append(i)\n",
        "    n_li(n,i)\n",
        "    m = len(lis)\n",
        "    if m >= ma:\n",
        "        ma = m\n",
        "        lis_re = lis\n",
        "print(ma)\n",
        "for i in lis_re:\n",
        "    print(i,end=' ')"
      ],
      "metadata": {
        "colab": {
          "base_uri": "https://localhost:8080/"
        },
        "id": "ynVqrZFLBbxB",
        "outputId": "487fe5a3-f049-4a5a-df4a-358571226cdf"
      },
      "execution_count": null,
      "outputs": [
        {
          "output_type": "stream",
          "name": "stdout",
          "text": [
            "100\n",
            "8\n",
            "100 62 38 24 14 10 4 6 "
          ]
        }
      ]
    },
    {
      "cell_type": "markdown",
      "source": [
        "2693 success"
      ],
      "metadata": {
        "id": "JxKMnqGhQsdP"
      }
    },
    {
      "cell_type": "code",
      "source": [
        "for _ in range(int(input())):\n",
        "    lis=sorted(list(map(int, input().split())),reverse=True)\n",
        "    print(lis[2])"
      ],
      "metadata": {
        "colab": {
          "base_uri": "https://localhost:8080/"
        },
        "id": "Kd8lCjX-Qyms",
        "outputId": "da7a4295-93e4-46f2-91a0-062e0f45b63a"
      },
      "execution_count": null,
      "outputs": [
        {
          "output_type": "stream",
          "name": "stdout",
          "text": [
            "4\n",
            "1 2 3 4 5 6 7 8 9 1000\n",
            "[1000, 9, 8, 7, 6, 5, 4, 3, 2, 1]\n",
            "8\n",
            "338 304 619 95 343 496 489 116 98 127\n",
            "[619, 496, 489, 343, 338, 304, 127, 116, 98, 95]\n",
            "489\n",
            "931 240 986 894 826 640 965 833 136 138\n",
            "[986, 965, 931, 894, 833, 826, 640, 240, 138, 136]\n",
            "931\n",
            "940 955 364 188 133 254 501 122 768 408\n",
            "[955, 940, 768, 501, 408, 364, 254, 188, 133, 122]\n",
            "768\n"
          ]
        }
      ]
    },
    {
      "cell_type": "markdown",
      "source": [
        "2729 success"
      ],
      "metadata": {
        "id": "NFsYHbwCVpwd"
      }
    },
    {
      "cell_type": "code",
      "source": [
        "for _ in range(int(input())):\n",
        "    a, b = map(str, input().split())\n",
        "    c = bin(int('0b'+a,2)+int('0b'+b,2))[2:]\n",
        "    print(c)"
      ],
      "metadata": {
        "colab": {
          "base_uri": "https://localhost:8080/"
        },
        "id": "jYyjUuEYVp3c",
        "outputId": "c3fbbe3e-cce9-4ba4-bae1-60a8883707ed"
      },
      "execution_count": null,
      "outputs": [
        {
          "output_type": "stream",
          "name": "stdout",
          "text": [
            "3\n",
            "1001101 10010\n",
            "1011111\n",
            "1001001 11001\n",
            "1100010\n",
            "1000111 1010110\n",
            "10011101\n"
          ]
        }
      ]
    },
    {
      "cell_type": "markdown",
      "source": [
        "2822 success"
      ],
      "metadata": {
        "id": "qCGmWDvvep9j"
      }
    },
    {
      "cell_type": "code",
      "source": [
        "nu = []\n",
        "for _ in range(8):\n",
        "    nu.append(int(input()))\n",
        "nu_s = sorted(nu, reverse = True)[:5] #점수 내림차순 정렬 top5\n",
        "print(sum(nu_s))\n",
        "re = []\n",
        "for i in range(5): # top5 점수 위치 찾기\n",
        "    re.append(nu.index(nu_s[i])+1)\n",
        "for i in sorted(re):\n",
        "    print(i, end=' ')"
      ],
      "metadata": {
        "colab": {
          "base_uri": "https://localhost:8080/"
        },
        "id": "GKYqzOiAesN9",
        "outputId": "0caed556-208b-427f-d8db-8859eb3fd008"
      },
      "execution_count": null,
      "outputs": [
        {
          "output_type": "stream",
          "name": "stdout",
          "text": [
            "20\n",
            "30\n",
            "50\n",
            "80\n",
            "110\n",
            "11\n",
            "0\n",
            "85\n",
            "355\n",
            "2 3 4 5 8 "
          ]
        }
      ]
    },
    {
      "cell_type": "markdown",
      "source": [
        "2828 success"
      ],
      "metadata": {
        "id": "z8AQECmArZDV"
      }
    },
    {
      "cell_type": "code",
      "source": [
        "n, m = map(int, input().split())\n",
        "basket = [i for i in range(1,m+1)]\n",
        "re = 0\n",
        "for _ in range(int(input())):\n",
        "    apple = int(input())\n",
        "    if apple in basket: #사과가 바스켓 이동 없이 떨어짐\n",
        "        continue\n",
        "    elif apple > max(basket): #사과가 바스켓 오른쪽에 떨어짐\n",
        "        move = apple - max(basket)\n",
        "        re += move\n",
        "        for i in range(m):\n",
        "            basket[i] += move\n",
        "    else:\n",
        "        move = min(basket) - apple #사과가 바스켓 왼쪽에 떨어짐\n",
        "        re += move\n",
        "        for i in range(m):\n",
        "            basket[i] -= move \n",
        "print(re)"
      ],
      "metadata": {
        "colab": {
          "base_uri": "https://localhost:8080/"
        },
        "id": "ItyDEfEGrYaX",
        "outputId": "fef9c945-f7d9-4d72-aa04-f48989017925"
      },
      "execution_count": null,
      "outputs": [
        {
          "output_type": "stream",
          "name": "stdout",
          "text": [
            "5 2\n",
            "3\n",
            "1\n",
            "5\n",
            "3\n",
            "4\n"
          ]
        }
      ]
    },
    {
      "cell_type": "markdown",
      "source": [
        "2891 fail"
      ],
      "metadata": {
        "id": "4utimhuH_zfW"
      }
    },
    {
      "cell_type": "code",
      "source": [
        "n, b, p = map(int, input().split())\n",
        "boat = [1]*n\n",
        "bk = list(map(int, input().split()))\n",
        "pl = list(map(int, input().split()))\n",
        "for i in bk:\n",
        "    boat[i-1] -= 1\n",
        "for i in pl:\n",
        "    boat[i-1] += 1 \n",
        "for ii, i in enumerate(boat):\n",
        "    if i == 0:\n",
        "        if ii == 0:\n",
        "            if boat[ii+1] == 2:\n",
        "                boat[ii] = 1\n",
        "                boat[ii+1] = 1\n",
        "        elif ii == len(boat)-1:\n",
        "            if boat[ii-1] == 2:\n",
        "                boat[ii] = 1\n",
        "                boat[ii-1] = 1\n",
        "        else:\n",
        "            if boat[ii+1] == 2:\n",
        "                boat[ii] = 1\n",
        "                boat[ii+1] = 1\n",
        "                continue\n",
        "            if boat[ii-1] == 2:\n",
        "                boat[ii] = 1\n",
        "                boat[ii-1] = 1\n",
        "                continue\n",
        "    else:\n",
        "        continue\n",
        "print(boat.count(0))"
      ],
      "metadata": {
        "colab": {
          "base_uri": "https://localhost:8080/"
        },
        "id": "4bvMbKkQ_0LC",
        "outputId": "bbbb1436-cbe3-46dc-c83c-b4015660ba02"
      },
      "execution_count": null,
      "outputs": [
        {
          "output_type": "stream",
          "name": "stdout",
          "text": [
            "5 2 3\n",
            "2 4\n",
            "1 3 5\n",
            "0\n"
          ]
        }
      ]
    },
    {
      "cell_type": "markdown",
      "source": [
        "2947 success"
      ],
      "metadata": {
        "id": "kTu7Eo7QEf3K"
      }
    },
    {
      "cell_type": "code",
      "source": [
        "jo = list(map(int, input().split()))\n",
        "while 1:\n",
        "    for i in range(4):\n",
        "        if jo[i]>jo[i+1]:\n",
        "            a, b = jo[i], jo[i+1]\n",
        "            jo[i+1], jo[i] = a, b\n",
        "            print(*jo)\n",
        "    if sorted(jo) == jo:\n",
        "        break"
      ],
      "metadata": {
        "colab": {
          "base_uri": "https://localhost:8080/"
        },
        "id": "zDkcnE58EehT",
        "outputId": "f9d9a41c-6783-4f54-c84b-95db75294c60"
      },
      "execution_count": null,
      "outputs": [
        {
          "output_type": "stream",
          "name": "stdout",
          "text": [
            "2 3 4 5 1\n",
            "2 3 4 1 5\n",
            "2 3 1 4 5\n",
            "2 1 3 4 5\n",
            "1 2 3 4 5\n"
          ]
        }
      ]
    },
    {
      "cell_type": "markdown",
      "source": [
        "3060 success"
      ],
      "metadata": {
        "id": "SpvvtcDjGs6q"
      }
    },
    {
      "cell_type": "code",
      "source": [
        "for _ in range(int(input())):\n",
        "    food = int(input())\n",
        "    pig = sum(list(map(int, input().split())))\n",
        "    re = 1\n",
        "    while food >= pig:\n",
        "        re += 1\n",
        "        pig *= 4\n",
        "    print(re)"
      ],
      "metadata": {
        "colab": {
          "base_uri": "https://localhost:8080/"
        },
        "id": "zd6D96mUGsas",
        "outputId": "dac82d1c-a9d4-4d9d-d439-c8ff22b1e8a9"
      },
      "execution_count": null,
      "outputs": [
        {
          "output_type": "stream",
          "name": "stdout",
          "text": [
            "2\n",
            "21\n",
            "1 2 3 4 5 6\n",
            "2\n",
            "21\n",
            "1 2 3 4 5 7\n",
            "1\n"
          ]
        }
      ]
    },
    {
      "cell_type": "markdown",
      "source": [
        "3135 success"
      ],
      "metadata": {
        "id": "wB8-YyJah9dw"
      }
    },
    {
      "cell_type": "code",
      "source": [
        "a, b = map(int, input().split())\n",
        "n = [int(input()) for _ in range(int(input()))]\n",
        "re = 0\n",
        "while 1:\n",
        "    if a == b:\n",
        "        break\n",
        "    c = abs(b - a)\n",
        "    c_n = []\n",
        "    for i in n:\n",
        "        c_n.append(abs(b-i))\n",
        "    if min(c_n) < c:\n",
        "        re += 1\n",
        "        a = n[c_n.index(min(c_n))]\n",
        "    else:\n",
        "        re += c\n",
        "        a = b\n",
        "print(re)"
      ],
      "metadata": {
        "colab": {
          "base_uri": "https://localhost:8080/"
        },
        "id": "pSqU6Z7th-bA",
        "outputId": "6af4ead6-b4f4-4c0e-8dc1-3a48455aa160"
      },
      "execution_count": null,
      "outputs": [
        {
          "output_type": "stream",
          "name": "stdout",
          "text": [
            "64 120\n",
            "1\n",
            "567\n",
            "56\n"
          ]
        }
      ]
    },
    {
      "cell_type": "markdown",
      "source": [
        "3711 success"
      ],
      "metadata": {
        "id": "ff19P299rPuV"
      }
    },
    {
      "cell_type": "code",
      "source": [
        "for _ in range(int(input())):\n",
        "    st = [int(input()) for _ in range(int(input()))]\n",
        "    for i in range(1,10**6):\n",
        "        stt = []\n",
        "        for j in st:\n",
        "            stt.append(j%i)\n",
        "        if len(st) == len(set(stt)):\n",
        "            print(i)\n",
        "            break"
      ],
      "metadata": {
        "colab": {
          "base_uri": "https://localhost:8080/"
        },
        "id": "P0__aBsYpLeH",
        "outputId": "58a68ddb-3661-4621-da9f-fbb301cdbcf7"
      },
      "execution_count": null,
      "outputs": [
        {
          "output_type": "stream",
          "name": "stdout",
          "text": [
            "1\n",
            "3\n",
            "0\n",
            "44\n",
            "11\n",
            "5\n"
          ]
        }
      ]
    },
    {
      "cell_type": "markdown",
      "source": [
        "3724 success"
      ],
      "metadata": {
        "id": "KbGGEAvrwXAv"
      }
    },
    {
      "cell_type": "code",
      "source": [
        "for _ in range(int(input())):\n",
        "    m, n = map(int, input().split())\n",
        "    lis = []\n",
        "    for _ in range(n):\n",
        "        lis.append(list(map(int, input().split())))\n",
        "    lis_T = [] #행열 변환\n",
        "    for i in range(m): \n",
        "        lis_TT = []\n",
        "        for j in range(n):\n",
        "            lis_TT.append(lis[j][i])\n",
        "        lis_T.append(lis_TT)\n",
        "    ma = 0 #큰수 찾기\n",
        "    ii = 0\n",
        "    for d, i in enumerate(lis_T):\n",
        "        a = 1\n",
        "        for j in i:\n",
        "            a *= j\n",
        "        if d == 0:\n",
        "            ma = a\n",
        "        elif a >= ma:\n",
        "            ma = a\n",
        "            ii = d\n",
        "    print(ii+1)"
      ],
      "metadata": {
        "colab": {
          "base_uri": "https://localhost:8080/"
        },
        "id": "Rp4YWqR7wXLU",
        "outputId": "198bdb18-3042-4524-b637-6755a9f89a5f"
      },
      "execution_count": null,
      "outputs": [
        {
          "output_type": "stream",
          "name": "stdout",
          "text": [
            "2\n",
            "3 3\n",
            "20 10 30\n",
            "15 20 20\n",
            "30 30 20\n",
            "3\n",
            "3 2\n",
            "2 -2 2\n",
            "2 -2 2\n",
            "3\n"
          ]
        }
      ]
    },
    {
      "cell_type": "markdown",
      "source": [
        "4108 success"
      ],
      "metadata": {
        "id": "6jR_KPiOJU3g"
      }
    },
    {
      "cell_type": "code",
      "source": [
        "while 1:\n",
        "    r, c = map(int, input().split())\n",
        "    if r == 0 and c == 0:\n",
        "        break    \n",
        "    ma = []\n",
        "    for _ in range(r):\n",
        "        maa = []\n",
        "        a = input()\n",
        "        for i in range(len(a)):\n",
        "            maa.append(a[i])\n",
        "        ma.append(maa)\n",
        "    re = ma\n",
        "    for i in range(r):\n",
        "        for j in range(c):\n",
        "            mine = 0\n",
        "            if ma[i][j] == '*':\n",
        "                re[i][j] = '*'\n",
        "            else: #상하좌우 지뢰탐색\n",
        "                if i-1 != -1 and j-1 != -1: #상좌\n",
        "                    if ma[i-1][j-1] == '*':\n",
        "                        mine += 1\n",
        "                if i-1 != -1: #상\n",
        "                    if ma[i-1][j] == '*':\n",
        "                        mine += 1\n",
        "                if i-1 != -1 and j+1 != c: #상우\n",
        "                    if ma[i-1][j+1] == '*':\n",
        "                        mine += 1\n",
        "                if j-1 != -1: #좌\n",
        "                    if ma[i][j-1] == '*':\n",
        "                        mine += 1\n",
        "                if j+1 != c: #우\n",
        "                    if ma[i][j+1] == '*':\n",
        "                        mine += 1\n",
        "                if i+1 != r and j-1 != -1: #하좌\n",
        "                    if ma[i+1][j-1] == '*':\n",
        "                        mine += 1\n",
        "                if i+1 != r: #하\n",
        "                    if ma[i+1][j] == '*':\n",
        "                        mine += 1\n",
        "                if i+1 != r and j+1 != c: #하우\n",
        "                    if ma[i+1][j+1] == '*':\n",
        "                        mine += 1\n",
        "                re[i][j] = mine\n",
        "    for i in range(r):\n",
        "        ree =''\n",
        "        for j in range(c):\n",
        "            ree += str(re[i][j])\n",
        "        print(ree)"
      ],
      "metadata": {
        "colab": {
          "base_uri": "https://localhost:8080/"
        },
        "id": "3hMb90jPJWdC",
        "outputId": "2808dbeb-afe4-4105-ee2d-9b688789b096"
      },
      "execution_count": null,
      "outputs": [
        {
          "name": "stdout",
          "output_type": "stream",
          "text": [
            "3 2\n",
            "..\n",
            ".*\n",
            "..\n",
            "11\n",
            "1*\n",
            "11\n",
            "5 5\n",
            "*.*.*\n",
            "..*..\n",
            "*****\n",
            ".....\n",
            "..**.\n",
            "*3*3*\n",
            "36*63\n",
            "*****\n",
            "24553\n",
            "01**1\n",
            "0 0\n"
          ]
        }
      ]
    },
    {
      "cell_type": "markdown",
      "source": [
        "4150 success"
      ],
      "metadata": {
        "id": "Q9fY90RnPnCn"
      }
    },
    {
      "cell_type": "code",
      "source": [
        "n = int(input())\n",
        "pabo = [1, 1]\n",
        "for i in range(3, n+1):\n",
        "    pabo.append(pabo[i - 2] + pabo[i - 3])\n",
        "print(pabo[n-1])"
      ],
      "metadata": {
        "colab": {
          "base_uri": "https://localhost:8080/"
        },
        "id": "9R1iX8-iOtkv",
        "outputId": "2e421288-5792-41ec-c69d-856a8d7402cc"
      },
      "execution_count": null,
      "outputs": [
        {
          "output_type": "stream",
          "name": "stdout",
          "text": [
            "100\n",
            "354224848179261915075\n"
          ]
        }
      ]
    },
    {
      "cell_type": "markdown",
      "source": [
        "4158 success (readline() 오류)"
      ],
      "metadata": {
        "id": "lt4tSJAYUuNb"
      }
    },
    {
      "cell_type": "code",
      "source": [
        "import sys\n",
        "while 1:\n",
        "    nn = []\n",
        "    mm = []\n",
        "    n, m = map(int, sys.stdin.readline().split())\n",
        "    if n == 0 and m == 0:\n",
        "        break\n",
        "    for _ in range(n):\n",
        "        nn.append(int(sys.stdin.readline()[:-1]))\n",
        "    for _ in range(m):\n",
        "        mm.append(int(sys.stdin.readline()[:-1]))\n",
        "    print(len(list(set(nn) & set(mm))))"
      ],
      "metadata": {
        "colab": {
          "base_uri": "https://localhost:8080/"
        },
        "id": "jn4drBhDUun1",
        "outputId": "0c1cb475-d866-4479-c4f3-f2e2b58fd025"
      },
      "execution_count": null,
      "outputs": [
        {
          "name": "stdout",
          "output_type": "stream",
          "text": [
            "3 3\n",
            "1\n",
            "2\n",
            "3\n",
            "1\n",
            "2\n",
            "4\n",
            "2\n",
            "0 0\n"
          ]
        }
      ]
    },
    {
      "cell_type": "markdown",
      "source": [
        "4335 fail (너무 꼬여버림 min, max로 범위를 하면 쉬울지도)"
      ],
      "metadata": {
        "id": "ZIRnZvJjo4Aa"
      }
    },
    {
      "cell_type": "code",
      "source": [
        "while 1:\n",
        "    ct = 0\n",
        "    cct = 0\n",
        "    nu = [i for i in range(1,11)]\n",
        "    a = int(input())   \n",
        "    if a == 0:\n",
        "        break\n",
        "    else :\n",
        "        while 1:\n",
        "            if ct == 0:\n",
        "                ct = 1\n",
        "                b = input()\n",
        "                if a not in nu:\n",
        "                    if b == 'too low' and a < nu[0]:\n",
        "                        continue\n",
        "                    elif b == 'too high' and a > nu[-1]:\n",
        "                        continue\n",
        "                    else :\n",
        "                        cct = 1\n",
        "                else:\n",
        "                    if cct == 1 and b != 'right on':\n",
        "                        continue\n",
        "                    else:\n",
        "                        if b == 'too high':\n",
        "                            d = nu.index(a)\n",
        "                            nu = nu[:d]\n",
        "                        elif b == 'too low':\n",
        "                            d = nu.index(a)\n",
        "                            nu = nu[d+1:]\n",
        "                        elif b == 'right on':\n",
        "                            if cct == 1:\n",
        "                                print('Stan is dishonest')\n",
        "                                break\n",
        "                            else:\n",
        "                                if len(nu) == 0:\n",
        "                                    print('Stan is dishonest')\n",
        "                                    break\n",
        "                                else : \n",
        "                                    if a in nu:\n",
        "                                        print('Stan may be honest')\n",
        "                                    else:\n",
        "                                        print('Stan is dishonest')\n",
        "                                    break\n",
        "            else :\n",
        "                a = int(input())\n",
        "                b = input()\n",
        "                if a not in nu:\n",
        "                    if b == 'too low' and a < nu[0]:\n",
        "                        continue\n",
        "                    elif b == 'too high' and a > nu[-1]:\n",
        "                        continue\n",
        "                    else :\n",
        "                        cct = 1\n",
        "                else:\n",
        "                    if cct == 1 and b != 'right on':\n",
        "                        continue\n",
        "                    else:\n",
        "                        if b == 'too high':\n",
        "                            d = nu.index(a)\n",
        "                            nu = nu[:d]\n",
        "                        elif b == 'too low':\n",
        "                            d = nu.index(a)\n",
        "                            nu = nu[d+1:]\n",
        "                        elif b == 'right on':\n",
        "                            if cct == 1:\n",
        "                                print('Stan is dishonest')\n",
        "                                break\n",
        "                            else:\n",
        "                                if len(nu) == 0:\n",
        "                                    print('Stan is dishonest')\n",
        "                                    break\n",
        "                                else : \n",
        "                                    if a in nu:\n",
        "                                        print('Stan may be honest')\n",
        "                                    else:\n",
        "                                        print('Stan is dishonest')\n",
        "                                    break"
      ],
      "metadata": {
        "colab": {
          "base_uri": "https://localhost:8080/"
        },
        "id": "L-njTGqo0qGu",
        "outputId": "7ce08fc0-0863-41d0-9b9e-b78bb9e35d4f"
      },
      "execution_count": null,
      "outputs": [
        {
          "name": "stdout",
          "output_type": "stream",
          "text": [
            "8\n",
            "too high\n",
            "3\n",
            "too low\n",
            "2\n",
            "too low\n",
            "4\n",
            "right on\n",
            "Stan may be honest\n",
            "8\n",
            "too high\n",
            "3\n",
            "too low\n",
            "2\n",
            "too high\n",
            "8\n",
            "too high\n",
            "5\n",
            "too high\n",
            "6\n",
            "right on\n",
            "Stan is dishonest\n",
            "0\n"
          ]
        }
      ]
    },
    {
      "cell_type": "markdown",
      "source": [
        "1003 success"
      ],
      "metadata": {
        "id": "6rFJB2ras3G5"
      }
    },
    {
      "cell_type": "code",
      "source": [
        "li_0 = [1,0,1] #2까지 0과 1의 리스트 미리 작성\n",
        "li_1 = [0,1,1]\n",
        "def pibo(x):\n",
        "    if x >= len(li_0): # 원하는 숫자까지 리스트가 없으면 피보나치 생성\n",
        "        for i in range(len(li_0), x+1):\n",
        "            li_0.append(li_0[i-1]+li_0[i-2])\n",
        "            li_1.append(li_1[i-1]+li_1[i-2])\n",
        "for _ in range(int(input())):\n",
        "    x = int(input())\n",
        "    pibo(x)\n",
        "    print(li_0[x], li_1[x])"
      ],
      "metadata": {
        "colab": {
          "base_uri": "https://localhost:8080/"
        },
        "id": "AfRpmQb2s3Pv",
        "outputId": "dccf6f57-5391-4a94-b726-df4890a1a411"
      },
      "execution_count": null,
      "outputs": [
        {
          "output_type": "stream",
          "name": "stdout",
          "text": [
            "3\n",
            "3\n",
            "1 2\n",
            "6\n",
            "5 8\n",
            "22\n",
            "10946 17711\n"
          ]
        }
      ]
    },
    {
      "cell_type": "markdown",
      "source": [
        "9184 success"
      ],
      "metadata": {
        "id": "4UmXQMeB-EKk"
      }
    },
    {
      "cell_type": "code",
      "source": [
        "li = [[[0]*(21) for _ in range(21)] for _ in range(21)] #w함수의 값을 저장하는 리스트\n",
        "def w(a, b, c):\n",
        "    if a <= 0 or b <= 0 or c <= 0 :\n",
        "        return 1\n",
        "    elif a > 20 or b > 20 or c > 20 :\n",
        "        return w(20,20,20)\n",
        "    elif li[a][b][c]: #함수값이 li에 있으면 그값을 리턴\n",
        "        return li[a][b][c]\n",
        "    elif a < b and b < c: #없으면 조건에 따라 구해서 li에 저장\n",
        "        li[a][b][c] = w(a, b, c-1) + w(a, b-1, c-1) - w(a, b-1, c)\n",
        "        return li[a][b][c]\n",
        "    else:\n",
        "        li[a][b][c]  =w(a-1, b, c) + w(a-1, b-1, c) + w(a-1, b, c-1) - w(a-1, b-1, c-1)\n",
        "        return li[a][b][c]\n",
        "while 1:\n",
        "    a, b, c = map(int, input().split())\n",
        "    if a == -1 and b == -1 and c == -1 :\n",
        "        break\n",
        "    print(f'w({a}, {b}, {c}) =', w(a,b,c))"
      ],
      "metadata": {
        "colab": {
          "base_uri": "https://localhost:8080/"
        },
        "id": "B03Vup49DT-n",
        "outputId": "02fd7159-dd5f-40ca-a394-e7c458855731"
      },
      "execution_count": null,
      "outputs": [
        {
          "name": "stdout",
          "output_type": "stream",
          "text": [
            "1 1 1\n",
            "w(1, 1, 1) = 2\n",
            "2 2 2\n",
            "w(2, 2, 2) = 4\n",
            "10 4 6\n",
            "w(10, 4, 6) = 523\n",
            "50 50 50\n",
            "w(50, 50, 50) = 1048576\n",
            "-1 7 18\n",
            "w(-1, 7, 18) = 1\n",
            "-1 -1 -1\n"
          ]
        }
      ]
    },
    {
      "cell_type": "markdown",
      "source": [
        "1904 success"
      ],
      "metadata": {
        "id": "HhCHKmNsCvYi"
      }
    },
    {
      "cell_type": "code",
      "source": [
        "ta = [0,1,2]+[0]*1000000 #타일가짓수 피보나치와 같다\n",
        "n = int(input())\n",
        "for i in range(3,n+1):\n",
        "        ta[i] = (ta[i-1]+ta[i-2])%15746\n",
        "print(ta[n])"
      ],
      "metadata": {
        "colab": {
          "base_uri": "https://localhost:8080/"
        },
        "id": "iq8tl5vWCwpC",
        "outputId": "79993cb2-3885-4b0e-a615-f1356fb5f97d"
      },
      "execution_count": null,
      "outputs": [
        {
          "output_type": "stream",
          "name": "stdout",
          "text": [
            "4\n",
            "5\n"
          ]
        }
      ]
    },
    {
      "cell_type": "markdown",
      "source": [
        "9461 success"
      ],
      "metadata": {
        "id": "143YcyGwNd4T"
      }
    },
    {
      "cell_type": "code",
      "source": [
        "tri = [0, 1, 1, 1, 2, 2, 3, 4, 5, 7, 9, 12] + [0]*100 #구하는 위치의 -1, -5의 합과 같은 배열\n",
        "for _ in range(int(input())):\n",
        "    r = int(input())\n",
        "    if tri[r] == 0:\n",
        "        for i in range(12, r+1):\n",
        "            tri[i] = tri[i-1] + tri[i-5]\n",
        "    print(tri[r])"
      ],
      "metadata": {
        "colab": {
          "base_uri": "https://localhost:8080/"
        },
        "id": "wQXUiR_rNess",
        "outputId": "37c59542-4547-41dd-8fa5-dae4f5aa2126"
      },
      "execution_count": null,
      "outputs": [
        {
          "output_type": "stream",
          "name": "stdout",
          "text": [
            "2\n",
            "6\n",
            "3\n",
            "12\n",
            "16\n"
          ]
        }
      ]
    },
    {
      "cell_type": "markdown",
      "source": [
        "1932 success"
      ],
      "metadata": {
        "id": "2chdNz0TSGjF"
      }
    },
    {
      "cell_type": "code",
      "source": [
        "tn = []\n",
        "n = int(input())\n",
        "for _ in range(n):\n",
        "    tn.append(list(map(int, input().split())))\n",
        "for i in range(1,n):\n",
        "    for j in range(len(tn[i])):\n",
        "        if j == 0: # 맨왼쪽일때 왼쪽선택\n",
        "            tn[i][j] = tn[i-1][j]+tn[i][j]\n",
        "        elif j == len(tn[i]) - 1: # 맨오른쪽일때 오른쪽선택\n",
        "            tn[i][j] = tn[i-1][j-1]+tn[i][j] # 나머지는 큰값을 선택\n",
        "        else:\n",
        "            tn[i][j] = max(tn[i-1][j-1],tn[i-1][j])+tn[i][j]\n",
        "print(max(tn[-1]))"
      ],
      "metadata": {
        "colab": {
          "base_uri": "https://localhost:8080/"
        },
        "id": "lU9kgG0gfVHd",
        "outputId": "45930599-5ec5-4034-85aa-d6afefe96227"
      },
      "execution_count": null,
      "outputs": [
        {
          "output_type": "stream",
          "name": "stdout",
          "text": [
            "5\n",
            "7\n",
            "3 8\n",
            "8 1 0\n",
            "2 7 4 4\n",
            "4 5 2 6 5\n",
            "30\n"
          ]
        }
      ]
    },
    {
      "cell_type": "markdown",
      "source": [
        "2579 success"
      ],
      "metadata": {
        "id": "7ve1feEeOFBN"
      }
    },
    {
      "cell_type": "code",
      "source": [
        "n = int(input())\n",
        "st = [0]*300 # 계단 숫자값\n",
        "st_re = [0]*300 # 각계단의 최대값\n",
        "for i in range(n):\n",
        "    st[i] = int(input())\n",
        "st_re[0] = st[0]\n",
        "st_re[1] = st[0]+st[1]\n",
        "st_re[2] = max(st[1]+st[2], st[0]+st[2]) # 3번째 계단 최대값은 (2번째와 3번째를 연속으로 오른값)과 (1번째와 3번째를 오른값)중 최대값\n",
        "for i in range(3,n): # 그다음 부터는 (자신의 전계단을 거처 온것)과 (자신의 전전 계단을 거쳐온것)중 최대값 선택 \n",
        "    st_re[i] = max(st_re[i-3]+st[i-1]+st[i],st_re[i-2]+st[i])\n",
        "print(st_re[n-1])"
      ],
      "metadata": {
        "colab": {
          "base_uri": "https://localhost:8080/"
        },
        "id": "Ny2A1acpOGwb",
        "outputId": "c21033b5-7a66-487e-fcc5-a1203e85d9ce"
      },
      "execution_count": null,
      "outputs": [
        {
          "output_type": "stream",
          "name": "stdout",
          "text": [
            "6\n",
            "10\n",
            "20\n",
            "15\n",
            "25\n",
            "10\n",
            "20\n",
            "75\n"
          ]
        }
      ]
    },
    {
      "cell_type": "markdown",
      "source": [
        "11047 success"
      ],
      "metadata": {
        "id": "h-MrsnTyS7kv"
      }
    },
    {
      "cell_type": "code",
      "source": [
        "n, k = map(int, input().split())\n",
        "coin = []\n",
        "re = 0\n",
        "for _ in range(n):\n",
        "    coin.append(int(input()))\n",
        "\n",
        "for i in sorted(coin, reverse=True):\n",
        "    if i <= k:\n",
        "        re += k //i\n",
        "        k = k % i\n",
        "print(re)"
      ],
      "metadata": {
        "colab": {
          "base_uri": "https://localhost:8080/"
        },
        "id": "3iACk3J9aknN",
        "outputId": "9d2ab2db-28e1-40a7-cd5b-bf3d8f03cd9c"
      },
      "execution_count": null,
      "outputs": [
        {
          "output_type": "stream",
          "name": "stdout",
          "text": [
            "10 4790\n",
            "1\n",
            "5\n",
            "10\n",
            "50\n",
            "100\n",
            "500\n",
            "1000\n",
            "5000\n",
            "10000\n",
            "50000\n",
            "12\n"
          ]
        }
      ]
    },
    {
      "cell_type": "markdown",
      "source": [
        "1931 success"
      ],
      "metadata": {
        "id": "JIYh5atLn3bc"
      }
    },
    {
      "cell_type": "code",
      "source": [
        "n = int(input())\n",
        "fc = [0]*n\n",
        "re = []\n",
        "for i in range(n): # 시간대를 리스트로 만듬\n",
        "    fc[i] = list(map(int, input().split()))\n",
        "fc = sorted(fc, key = lambda x : (x[1],x[0])) # 회의 시작시간으로 정렬후 회의 끝시간으로 정렬\n",
        "fc_1 = 0\n",
        "re = 0\n",
        "for i in fc: # 회의 시작시간이 기존의 끝나는 시간과 같거나 크면 회의 추가\n",
        "    if i[0] >= fc_1:\n",
        "        fc_1 = i[1]\n",
        "        re += 1\n",
        "print(re)"
      ],
      "metadata": {
        "colab": {
          "base_uri": "https://localhost:8080/"
        },
        "id": "nUa1WjnPn4bt",
        "outputId": "5e4471b5-7804-4eac-be5b-794a39316ade"
      },
      "execution_count": null,
      "outputs": [
        {
          "output_type": "stream",
          "name": "stdout",
          "text": [
            "11\n",
            "1 4\n",
            "3 5\n",
            "0 6\n",
            "5 7\n",
            "3 8\n",
            "5 9\n",
            "6 10\n",
            "8 11\n",
            "8 12\n",
            "2 13\n",
            "12 14\n",
            "4\n"
          ]
        }
      ]
    },
    {
      "cell_type": "markdown",
      "source": [
        "11399 success"
      ],
      "metadata": {
        "id": "xyMIRF5JIsaN"
      }
    },
    {
      "cell_type": "code",
      "source": [
        "n = int(input())\n",
        "atm = list(map(int, input().split())) \n",
        "atm = sorted(atm)  # 걸리는 시간이 짧은사람이 먼저 할 수록 총시간 단춛되므로 정렬\n",
        "re = 0\n",
        "\n",
        "for i in range(n): # 맨 앞에 있는 사람은 총 시간에 n번 포함 뒤로갈수록 줄어들음 ex)[1,2,3] : 1, 1+2, 1+2+3\n",
        "    re += atm[i]*(n-i)\n",
        "print(re)"
      ],
      "metadata": {
        "colab": {
          "base_uri": "https://localhost:8080/"
        },
        "id": "PQFmct5tIskB",
        "outputId": "811e9752-ddde-4147-bc8c-f0f53e50f8d3"
      },
      "execution_count": null,
      "outputs": [
        {
          "output_type": "stream",
          "name": "stdout",
          "text": [
            "5\n",
            "1 2 3 4 5\n",
            "35\n"
          ]
        }
      ]
    },
    {
      "cell_type": "markdown",
      "source": [
        "1541 success (두가지 방법)"
      ],
      "metadata": {
        "id": "IN8_H1djQ__2"
      }
    },
    {
      "cell_type": "code",
      "source": [
        "sic = input() \n",
        "nu = []\n",
        "pm = []\n",
        "sum = 0\n",
        "nn = ''\n",
        "for i, ii in enumerate(sic): # 식을 숫자와 기호로 나누기(문자수정 ex)0003 ->3)\n",
        "    if ii == '+' or ii == '-':\n",
        "        nu.append(int(nn))\n",
        "        pm.append(ii)\n",
        "        nn = ''\n",
        "    elif i == len(sic)-1:\n",
        "        nn += ii\n",
        "        nu.append(int(nn))\n",
        "    else:\n",
        "        nn += ii\n",
        "sic = '' # 식을 다시 합치기\n",
        "for i in range(len(nu)): \n",
        "    if i == len(nu)-1:\n",
        "        sic += str(nu[i])\n",
        "    else:\n",
        "        sic += str(nu[i])+pm[i]\n",
        "\n",
        "mm = 0 # 첫번째 마이너스인지 판단\n",
        "ct = 0\n",
        "for i, ii in enumerate(sic): # 최소값이 되려면 '-'이후 다음 '-'전까지 괄호를 처서 값을 더해주는게 최소값을 만든다\n",
        "    if ii == '-':\n",
        "        if mm == 0: # 처음 마이너스면 그뒤에 괄호를 넣어줌\n",
        "            sic = sic[:i+1+ct]+ '(' + sic[i+1+ct:]\n",
        "            mm = 1\n",
        "        else: \n",
        "            sic = sic[:i+1+ct]+ ')' + sic[i+1+ct:] # 두번째면 그 앞에 괄호를 그 뒤에 괄호 넣어줌 그리고 추가된 괄호 만큼 뒤로 밀림(ct)\n",
        "            sic = sic[:i+3+ct]+ '(' + sic[i+3+ct:]\n",
        "            ct += 2\n",
        "c_n = sic.count('(')# ')'가 '(' 와 같지 않으면 괄호를 마지막에 추가에서 식을 완성 \n",
        "c_m = sic.count(')')\n",
        "if c_n != c_m:\n",
        "    sic += ')'      \n",
        "print(eval(sic)) # eval을 쓰긴 싫은데 차후 생각"
      ],
      "metadata": {
        "colab": {
          "base_uri": "https://localhost:8080/"
        },
        "id": "D3kMWdeGrjym",
        "outputId": "17003564-15a0-4907-f22e-8fdaa9c64758"
      },
      "execution_count": null,
      "outputs": [
        {
          "output_type": "stream",
          "name": "stdout",
          "text": [
            "50-20-20\n",
            "10\n"
          ]
        }
      ]
    },
    {
      "cell_type": "code",
      "source": [
        "sic = input() \n",
        "nu = []\n",
        "pm = []\n",
        "sum = 0\n",
        "nn = ''\n",
        "for i, ii in enumerate(sic): # 식을 숫자와 기호로 나누기(문자수정 ex)0003 ->3)\n",
        "    if ii == '+' or ii == '-':\n",
        "        nu.append(int(nn))\n",
        "        pm.append(ii)\n",
        "        nn = ''\n",
        "    elif i == len(sic)-1:\n",
        "        nn += ii\n",
        "        nu.append(int(nn))\n",
        "    else:\n",
        "        nn += ii\n",
        "sic = '' # 식을 다시 합치기\n",
        "for i in range(len(nu)): \n",
        "    if i == len(nu)-1:\n",
        "        sic += str(nu[i])\n",
        "    else:\n",
        "        sic += str(nu[i])+pm[i]\n",
        "\n",
        "c_m = 0 # 첫번째 '-'이후 '+'는 다 '-'로 변환\n",
        "for i in range(len(sic)):\n",
        "    if sic[i] == '-':\n",
        "        c_m = 1\n",
        "    elif sic[i] == '+' and c_m == 1:\n",
        "        sic = sic[:i]+'-'+sic[i+1:]\n",
        "\n",
        "nu = []\n",
        "pm = []\n",
        "sum = 0\n",
        "nn = ''\n",
        "for i, ii in enumerate(sic): # 식을 숫자와 기호로 나누기\n",
        "    if ii == '+' or ii == '-':\n",
        "        nu.append(int(nn))\n",
        "        pm.append(ii)\n",
        "        nn = ''\n",
        "    elif i == len(sic)-1:\n",
        "        nn += ii\n",
        "        nu.append(int(nn))\n",
        "    else:\n",
        "        nn += ii\n",
        "re = nu[0] # 완성된 계산식 계산 \n",
        "for i in range(len(pm)):\n",
        "    if pm[i] == '+':\n",
        "        re += nu[i+1]\n",
        "    else:\n",
        "        re -= nu[i+1]\n",
        "print(re)"
      ],
      "metadata": {
        "colab": {
          "base_uri": "https://localhost:8080/"
        },
        "id": "Kb3IoPcVyEfd",
        "outputId": "63751985-b965-4a87-a551-fd82914fe71f"
      },
      "execution_count": null,
      "outputs": [
        {
          "output_type": "stream",
          "name": "stdout",
          "text": [
            "10+10-20+60\n",
            "-60\n"
          ]
        }
      ]
    },
    {
      "cell_type": "markdown",
      "source": [
        "13305 success"
      ],
      "metadata": {
        "id": "aJgKz-VcDvht"
      }
    },
    {
      "cell_type": "code",
      "source": [
        "n = int(input())\n",
        "ro = list(map(int, input().split()))\n",
        "va = list(map(int, input().split()))\n",
        "fir = va[0]\n",
        "for i in range(1,n): # 주유소 값이 이전값보다 비싸면 이전값으로 변경 싸면 싼가격으로 변경\n",
        "    if va[i] >= fir:\n",
        "        va[i] = fir\n",
        "    else:\n",
        "        fir = va[i]\n",
        "re = 0\n",
        "for i in range(n-1):\n",
        "    re += ro[i] * va[i]\n",
        "print(re)"
      ],
      "metadata": {
        "colab": {
          "base_uri": "https://localhost:8080/"
        },
        "id": "Dz4WZ2cKDvrn",
        "outputId": "1bfa78b5-6961-45a0-d919-4365b72b5466"
      },
      "execution_count": null,
      "outputs": [
        {
          "output_type": "stream",
          "name": "stdout",
          "text": [
            "4\n",
            "3 3 4\n",
            "1 1 1 1\n",
            "10\n"
          ]
        }
      ]
    },
    {
      "cell_type": "markdown",
      "source": [
        "9020 success"
      ],
      "metadata": {
        "id": "tkIEeqvHwruP"
      }
    },
    {
      "cell_type": "code",
      "source": [
        "sosu = [0]+[0]+[1]*9999 # 소수 생성\n",
        "for i in range(2, int(10000**0.5)+1):\n",
        "    if sosu[i] == 1:\n",
        "        for j in range(i+i, 10000, i):\n",
        "            sosu[j] = 0\n",
        "for _ in range(int(input())):\n",
        "    n = int(input())\n",
        "    nn = n//2\n",
        "    for i in range(nn, 1, -1): # 차이가 적게 나는 수를 찾기때문에 중간에서 부터 시작\n",
        "        if sosu[i] == 1 and sosu[n-i] == 1:\n",
        "            print(i, n-i)\n",
        "            break"
      ],
      "metadata": {
        "colab": {
          "base_uri": "https://localhost:8080/"
        },
        "id": "hvADne2wwsnI",
        "outputId": "9609b0ad-21b3-42d9-f072-bed551530ad9"
      },
      "execution_count": null,
      "outputs": [
        {
          "output_type": "stream",
          "name": "stdout",
          "text": [
            "3\n",
            "8\n",
            "3 5\n",
            "10\n",
            "5 5\n",
            "16\n",
            "5 11\n"
          ]
        }
      ]
    },
    {
      "cell_type": "markdown",
      "source": [
        "2981"
      ],
      "metadata": {
        "id": "AU5WBmIl0-uH"
      }
    },
    {
      "cell_type": "code",
      "source": [
        "n = [int(input()) for _ in range(int(input()))]\n",
        "mm = min(n)\n",
        "mmm = max(n)\n",
        "re = []\n",
        "for i in range(2,mmm+1): # 범위는 입력중 제일 작은 큰까지\n",
        "    if i <= mm: # 최소값과 같거나 작을때까지는\n",
        "        a = n[0] % i # 첫수를 나눈 나머지\n",
        "    else: # 크면 최소값으로 나머지 고정\n",
        "        a = mm\n",
        "    ct = 0\n",
        "    for j in range(1, len(n)): # 나머지수도 나머지가 같은지\n",
        "        if n[j] % i == a:\n",
        "            continue\n",
        "        else:\n",
        "            ct = 1\n",
        "            break\n",
        "    if ct == 0:\n",
        "        re.append(i)\n",
        "for i in re:\n",
        "    print(i, end=' ')"
      ],
      "metadata": {
        "colab": {
          "base_uri": "https://localhost:8080/"
        },
        "id": "eA6ks8FUzxao",
        "outputId": "cbacb37c-e57d-4a52-86e2-490d9b59071a"
      },
      "execution_count": null,
      "outputs": [
        {
          "output_type": "stream",
          "name": "stdout",
          "text": [
            "3\n",
            "6\n",
            "36\n",
            "216\n",
            "2 3 5 6 10 15 30 "
          ]
        }
      ]
    },
    {
      "cell_type": "markdown",
      "source": [
        "3036 success"
      ],
      "metadata": {
        "id": "C9Jo6NIi9ziv"
      }
    },
    {
      "cell_type": "code",
      "source": [
        "import math\n",
        "nn = int(input())\n",
        "n = list(map(int, input().split()))\n",
        "for i in range(1, nn):\n",
        "    n_gcd = math.gcd(n[0], n[i]) # 최대 공약수를 구한다\n",
        "    print(f'{int(n[0]/n_gcd)}/{int(n[i]/n_gcd)}') # 첫바퀴와 구하고자하는 바퀴의 반지름을 최대공약수로 나눈다(분수표현)"
      ],
      "metadata": {
        "colab": {
          "base_uri": "https://localhost:8080/"
        },
        "id": "7QOLOeCn9zrK",
        "outputId": "427b932a-7f72-4fa0-d39b-312c3b6c5794"
      },
      "execution_count": null,
      "outputs": [
        {
          "output_type": "stream",
          "name": "stdout",
          "text": [
            "4\n",
            "300 1 1 300\n",
            "300/1\n",
            "300/1\n",
            "1/1\n"
          ]
        }
      ]
    },
    {
      "cell_type": "markdown",
      "source": [
        "11050 success"
      ],
      "metadata": {
        "id": "QfXlOi1y81km"
      }
    },
    {
      "cell_type": "code",
      "source": [
        "import math\n",
        "n, k = map(int, input().split())\n",
        "if k == 0 or k == n:\n",
        "    print(1)\n",
        "else:\n",
        "    a = math.factorial(n)/(math.factorial(k)*math.factorial(n-k))\n",
        "    print(int(a))"
      ],
      "metadata": {
        "colab": {
          "base_uri": "https://localhost:8080/"
        },
        "id": "l5C3mpQT6N2k",
        "outputId": "9bc40a86-b240-4b05-aee2-7278bb215a9f"
      },
      "execution_count": null,
      "outputs": [
        {
          "output_type": "stream",
          "name": "stdout",
          "text": [
            "5 2\n",
            "10\n"
          ]
        }
      ]
    },
    {
      "cell_type": "markdown",
      "source": [
        "11051 success"
      ],
      "metadata": {
        "id": "dr9llvc8Garr"
      }
    },
    {
      "cell_type": "code",
      "source": [
        "n, k = map(int, input().split())\n",
        "if k == 0 or k == n:\n",
        "    print(1)\n",
        "else:\n",
        "    pas = [[1],[1,1],[1,2,1],[1,3,3,1],[1,4,6,4,1]] #파스칼 삼각형 4까지 미리 구해놓음\n",
        "    for i in range(5, n+1): # 그이후는 추가\n",
        "        pas.append([1]) # 첫 값은 1\n",
        "        for j in range(len(pas[i-1])-1):  # 중간값은 윗줄의 대각선 값들의 합\n",
        "            pas[i].append(pas[i-1][j] + pas[i-1][j+1])\n",
        "        pas[i].append(1) # 마지막 값은 1\n",
        "    print(pas[n][k]%10007)"
      ],
      "metadata": {
        "colab": {
          "base_uri": "https://localhost:8080/"
        },
        "id": "CjZtxaCnGbiG",
        "outputId": "4a345f12-07ae-43e7-d149-226e05b3b221"
      },
      "execution_count": null,
      "outputs": [
        {
          "output_type": "stream",
          "name": "stdout",
          "text": [
            "100 50\n",
            "9219\n"
          ]
        }
      ]
    },
    {
      "cell_type": "markdown",
      "source": [
        "9375 success"
      ],
      "metadata": {
        "id": "7ydssL92PTOC"
      }
    },
    {
      "cell_type": "code",
      "source": [
        "for _ in range(int(input())):\n",
        "    pa = {} \n",
        "    for _ in range(int(input())): # 물품을 딕셔너리로 저장\n",
        "        a, b = input().split()\n",
        "        if b in pa:\n",
        "            pa[b].append(a)\n",
        "        else:\n",
        "            pa[b] = [a]\n",
        "    re = 1\n",
        "    for i in pa: # 품목별 갯수를 곱하고 -1\n",
        "        re *= len(pa[i])+1\n",
        "    print(re-1)"
      ],
      "metadata": {
        "colab": {
          "base_uri": "https://localhost:8080/"
        },
        "id": "rFcHYEdgPTY6",
        "outputId": "4169b4be-5eef-4727-922c-042ab553c254"
      },
      "execution_count": null,
      "outputs": [
        {
          "output_type": "stream",
          "name": "stdout",
          "text": [
            "2\n",
            "3\n",
            "hat headgear\n",
            "sunglasses eyewear\n",
            "turban headgear\n",
            "5\n",
            "3\n",
            "mask face\n",
            "sunglasses face\n",
            "makeup face\n",
            "3\n"
          ]
        }
      ]
    },
    {
      "cell_type": "markdown",
      "source": [
        "1676 success"
      ],
      "metadata": {
        "id": "il3C91g9VS3C"
      }
    },
    {
      "cell_type": "code",
      "source": [
        "import math\n",
        "re = 0\n",
        "n = int(input())\n",
        "a = str(math.factorial(n))\n",
        "for i in range(-1, -len(a)-1, -1):\n",
        "    if a[i] == '0':\n",
        "        re += 1\n",
        "    else:   \n",
        "        break\n",
        "print(re)"
      ],
      "metadata": {
        "colab": {
          "base_uri": "https://localhost:8080/"
        },
        "id": "zM-15nNPVUMK",
        "outputId": "793894b1-3132-4e31-b0fd-2c82f26769e4"
      },
      "execution_count": null,
      "outputs": [
        {
          "output_type": "stream",
          "name": "stdout",
          "text": [
            "10\n",
            "2\n"
          ]
        }
      ]
    },
    {
      "cell_type": "markdown",
      "source": [
        "2004 success"
      ],
      "metadata": {
        "id": "s4xe0oXx2OCK"
      }
    },
    {
      "cell_type": "code",
      "source": [
        "def fac(x, y): # 2!가 들어간수라면 2,4,6 등 제곱도 구해야한다\n",
        "    ct = 0\n",
        "    while x:       \n",
        "        x //= y\n",
        "        ct += x\n",
        "    return ct\n",
        "n, m = map(int, input().split())\n",
        "ct_2 = fac(n, 2) - fac(m, 2) - fac(n-m, 2) # 이항계수중 2!가 들어간 수\n",
        "ct_5 = fac(n, 5) - fac(m, 5) - fac(n-m, 5) # 이항계수중 5!가 들어간 수\n",
        "print(min(ct_2, ct_5)) # 2!와 5!가 동시에 들어가야 0이 되므로 최소수 출력"
      ],
      "metadata": {
        "colab": {
          "base_uri": "https://localhost:8080/"
        },
        "id": "JcY6ZvJ72OJk",
        "outputId": "e7fefd53-a43d-49f1-d494-117b370d7e91"
      },
      "execution_count": null,
      "outputs": [
        {
          "output_type": "stream",
          "name": "stdout",
          "text": [
            "25 12\n",
            "2\n"
          ]
        }
      ]
    },
    {
      "cell_type": "markdown",
      "source": [
        "10773 success"
      ],
      "metadata": {
        "id": "rBf9t2cE-7Vy"
      }
    },
    {
      "cell_type": "code",
      "source": [
        "re = []\n",
        "for _ in range(int(input())):\n",
        "    n = int(input())\n",
        "    if n == 0:\n",
        "        del re[-1]\n",
        "    else:\n",
        "        re.append(n)\n",
        "print(sum(re))"
      ],
      "metadata": {
        "colab": {
          "base_uri": "https://localhost:8080/"
        },
        "id": "IbcrrnWa_zKR",
        "outputId": "c5ee13e9-808f-4360-9aa6-937e839b5870"
      },
      "execution_count": null,
      "outputs": [
        {
          "output_type": "stream",
          "name": "stdout",
          "text": [
            "4\n",
            "3\n",
            "0\n",
            "4\n",
            "0\n",
            "0\n"
          ]
        }
      ]
    },
    {
      "cell_type": "markdown",
      "source": [
        "9012 success"
      ],
      "metadata": {
        "id": "5xBwgPt0FfBA"
      }
    },
    {
      "cell_type": "code",
      "source": [
        "for _ in range(int(input())):\n",
        "    n = input()\n",
        "    a = 0\n",
        "    b = 0\n",
        "    for i in n:\n",
        "        if i =='(':\n",
        "            a += 1\n",
        "        else:\n",
        "            if a == 0: \n",
        "                b = 1\n",
        "            a -= 1\n",
        "    if a or b : # '('와 ')'의 수가 같으면 yes 아니면 no\n",
        "        print('NO')\n",
        "    else:\n",
        "        print('YES')"
      ],
      "metadata": {
        "colab": {
          "base_uri": "https://localhost:8080/"
        },
        "id": "o5oDK71sFfJg",
        "outputId": "3e722bab-5f85-47ac-f204-ab2473d3485c"
      },
      "execution_count": null,
      "outputs": [
        {
          "output_type": "stream",
          "name": "stdout",
          "text": [
            "3\n",
            ")(\n",
            "NO\n",
            "(()\n",
            "NO\n",
            "(()())\n",
            "YES\n"
          ]
        }
      ]
    },
    {
      "cell_type": "markdown",
      "source": [
        "4949 success"
      ],
      "metadata": {
        "id": "2XC-9gNLVNzn"
      }
    },
    {
      "cell_type": "code",
      "source": [
        "while 1:\n",
        "    an = [0]\n",
        "    n = input()\n",
        "    re = 1\n",
        "    if n == '.':\n",
        "        break\n",
        "    for i in n:\n",
        "        if i == '(':\n",
        "            an.append('(')\n",
        "        elif i == ')':\n",
        "            if an[-1] == '(':\n",
        "                an.pop()\n",
        "            else:\n",
        "                re = 0\n",
        "                break\n",
        "        elif i == '[':\n",
        "            an.append('[')\n",
        "        elif i == ']':\n",
        "            if an[-1] == '[':\n",
        "                an.pop()\n",
        "            else:\n",
        "                re = 0\n",
        "                break\n",
        "    if re and len(an) == 1:\n",
        "        print('yes')\n",
        "    else:\n",
        "        print('no')"
      ],
      "metadata": {
        "colab": {
          "base_uri": "https://localhost:8080/"
        },
        "id": "qpUwGJ1hVN5o",
        "outputId": "8b774291-6fd9-4cde-db63-cb2aec8382f1"
      },
      "execution_count": null,
      "outputs": [
        {
          "name": "stdout",
          "output_type": "stream",
          "text": [
            "(){}\n",
            "yes\n",
            "([)]\n",
            "no\n",
            "([])\n",
            "yes\n",
            " 3\n",
            "yes\n",
            " .\n",
            "yes\n",
            ".\n"
          ]
        }
      ]
    },
    {
      "cell_type": "markdown",
      "source": [
        "1874 success"
      ],
      "metadata": {
        "id": "KCz9YgNbhmUZ"
      }
    },
    {
      "cell_type": "code",
      "source": [
        "li = []\n",
        "re = [1]*100001\n",
        "ord = []\n",
        "a = 0\n",
        "ct = 1\n",
        "for i in range(int(input())):\n",
        "    n = int(input())\n",
        "    if i == 0:\n",
        "        for j in range(1, n+1):\n",
        "            li.append(j)\n",
        "            ord.append('+')\n",
        "        a = li.pop()\n",
        "        re[a] = 0\n",
        "        ord.append('-')\n",
        "    elif re[n] == 1:\n",
        "        if n > a :\n",
        "            for j in range(a, n+1):\n",
        "                if re[j]:\n",
        "                    li.append(j)\n",
        "                    ord.append('+')\n",
        "            a = li.pop()\n",
        "            re[a] = 0\n",
        "            ord.append('-')\n",
        "        elif n < a:\n",
        "            while 1:\n",
        "                a = li.pop()\n",
        "                re[a] = 0\n",
        "                if a == n:\n",
        "                    ord.append('-')\n",
        "                    break\n",
        "                ord.append('-')\n",
        "    else:\n",
        "        ct = 0\n",
        "if ct:\n",
        "    for i in ord:\n",
        "        print(i)\n",
        "else:\n",
        "    print('NO')"
      ],
      "metadata": {
        "colab": {
          "base_uri": "https://localhost:8080/"
        },
        "id": "3YGwYtu7hmiX",
        "outputId": "f0badbd2-62fc-4a5e-df0d-8bd220128b44"
      },
      "execution_count": null,
      "outputs": [
        {
          "output_type": "stream",
          "name": "stdout",
          "text": [
            "5\n",
            "8\n",
            "4\n",
            "5\n",
            "5\n",
            "6\n",
            "NO\n"
          ]
        }
      ]
    },
    {
      "cell_type": "markdown",
      "source": [
        "17298 fail"
      ],
      "metadata": {
        "id": "8AiVrad639Kj"
      }
    },
    {
      "cell_type": "code",
      "source": [
        "n = int(input())\n",
        "li = list(map(int, input().split())) # 수열\n",
        "li_c = li.copy() # 수열 카피 원래 숫자의 수열 위치를 알기 위해\n",
        "li_s = sorted(li) # 수열을 오름차순으로 정열\n",
        "re = [0]*n \n",
        "for i in li_s: # 숫자를 작은 수부터 계산\n",
        "    a = li.index(i) # i숫자의 남아있는 수열에서의 위치(li의 요소는 for문을 진행하면서 하나씩 제거)\n",
        "    b = li_c.index(i) # i숫자의 원래 수열에서의 위치 \n",
        "    li.remove(i) # 수열에서 i를 제거 그러면 그보다 큰 바로 오른쪽수가 그자리(index)로 오게 된다\n",
        "    if len(li) > a: # 오른쪽에 수가 있는지 판다\n",
        "        re[b] = li[a] # 있으면 결과 리스트(i 숫자의 자리에)에 i를 제거하고 그자리로 온숫자를 추가\n",
        "    else:\n",
        "        re[b] = -1 # 오른쪽에 수가 없으면 -1\n",
        "for i in re:\n",
        "    print(i, end=' ')"
      ],
      "metadata": {
        "colab": {
          "base_uri": "https://localhost:8080/"
        },
        "id": "7U5HkNWr39Tq",
        "outputId": "78bd5977-8a4b-4c78-89e2-fdffc2ca3cd6"
      },
      "execution_count": null,
      "outputs": [
        {
          "output_type": "stream",
          "name": "stdout",
          "text": [
            "4\n",
            "9 5 4 8\n",
            "-1 8 8 -1 "
          ]
        }
      ]
    },
    {
      "cell_type": "markdown",
      "source": [
        "18258 success"
      ],
      "metadata": {
        "id": "cbxo2aVzD_bP"
      }
    },
    {
      "cell_type": "code",
      "source": [
        "import sys\n",
        "from collections import deque\n",
        "li = deque([])\n",
        "for _ in range(int(sys.stdin.readline())):\n",
        "    o = sys.stdin.readline().strip()\n",
        "    if o[:4] == 'push':\n",
        "        n = o[5:]\n",
        "        o = o[:4]\n",
        "    if o == 'push':\n",
        "        li.append(int(n))\n",
        "    elif o == 'pop':\n",
        "        if len(li)>0:\n",
        "            print(li.popleft())\n",
        "        else:\n",
        "            print(-1)\n",
        "    elif o == 'size':\n",
        "        print(len(li))\n",
        "    elif o == 'empty':\n",
        "        if len(li) == 0:\n",
        "            print(1)\n",
        "        else:\n",
        "            print(0)\n",
        "    elif o == 'front':\n",
        "        if len(li)>0:\n",
        "            print(li[0])\n",
        "        else:\n",
        "            print(-1)\n",
        "    elif o == 'back':\n",
        "        if len(li)>0:\n",
        "            print(li[-1])\n",
        "        else:\n",
        "            print(-1)"
      ],
      "metadata": {
        "colab": {
          "base_uri": "https://localhost:8080/"
        },
        "id": "EaypesT0D_os",
        "outputId": "6d5b0932-fa24-4563-a314-eeb549ea0005"
      },
      "execution_count": null,
      "outputs": [
        {
          "output_type": "stream",
          "name": "stdout",
          "text": [
            "15\n",
            "push 1\n",
            "push 2\n",
            "front\n",
            "1\n",
            "back\n",
            "2\n",
            "size\n",
            "2\n",
            "empty\n",
            "0\n",
            "pop\n",
            "1\n",
            "pop\n",
            "2\n",
            "pop\n",
            "-1\n",
            "size\n",
            "0\n",
            "empty\n",
            "1\n",
            "pop\n",
            "-1\n",
            "push 3\n",
            "empty\n",
            "0\n",
            "front\n",
            "3\n"
          ]
        }
      ]
    },
    {
      "cell_type": "markdown",
      "source": [
        "2164 success"
      ],
      "metadata": {
        "id": "eXoidgYvNnUQ"
      }
    },
    {
      "cell_type": "code",
      "source": [
        "%time\n",
        "from collections import deque\n",
        "ca = deque([i for i in range(1, int(input())+1)])\n",
        "while len(ca) > 1:\n",
        "    ca.popleft()\n",
        "    ps = ca.popleft()\n",
        "    ca.append(ps)\n",
        "print(ca[0])"
      ],
      "metadata": {
        "colab": {
          "base_uri": "https://localhost:8080/"
        },
        "id": "6k3_P7p8Nnbg",
        "outputId": "a5c0d1fe-fe89-4ced-dff1-730ab6beaf44"
      },
      "execution_count": null,
      "outputs": [
        {
          "output_type": "stream",
          "name": "stdout",
          "text": [
            "CPU times: user 6 µs, sys: 0 ns, total: 6 µs\n",
            "Wall time: 10.5 µs\n",
            "500000\n",
            "475712\n"
          ]
        }
      ]
    },
    {
      "cell_type": "markdown",
      "source": [
        "11866 success"
      ],
      "metadata": {
        "id": "rn9b0lV5VetA"
      }
    },
    {
      "cell_type": "code",
      "source": [
        "from collections import deque\n",
        "n, k = map(int, input().split())\n",
        "eo = deque([i for i in range(1, n+1)])\n",
        "for i in range(n):\n",
        "    for _ in range(k-1): # k-1번 전까지 고리 회전 \n",
        "        eo.append(eo[0])\n",
        "        eo.popleft()\n",
        "    if n > 1:\n",
        "        if i == 0: # k번째 값 pop\n",
        "            print('<'+str(eo.popleft())+',',end=' ')    \n",
        "        elif i == n-1:\n",
        "            print(str(eo.popleft())+'>')\n",
        "        else:\n",
        "            print(str(eo.popleft())+',', end=' ')\n",
        "    else:\n",
        "        print('<1>')"
      ],
      "metadata": {
        "colab": {
          "base_uri": "https://localhost:8080/"
        },
        "id": "Yz1Wds0xOHgi",
        "outputId": "ce0856b9-f8d7-43fb-d709-1e94d527c837"
      },
      "execution_count": null,
      "outputs": [
        {
          "output_type": "stream",
          "name": "stdout",
          "text": [
            "1 1\n",
            "<1>\n"
          ]
        }
      ]
    },
    {
      "cell_type": "markdown",
      "source": [
        "1966 success"
      ],
      "metadata": {
        "id": "4K36jJvkoo39"
      }
    },
    {
      "cell_type": "code",
      "source": [
        "from collections import deque\n",
        "for _ in range(int(input())):\n",
        "    n, w = map(int, input().split())\n",
        "    li = list(map(int, input().split())) # 중요도\n",
        "    idd = [i for i in range(n)] # 처음 인덱스\n",
        "    lid = deque(zip(idd, li)) # 중요도와 인덱스를 묶는다\n",
        "    ct = 0\n",
        "    while 1:\n",
        "        ma = max([i[1] for i in lid]) # 중요도의 최대값\n",
        "        if lid[0][1] == ma: # 중요도가 가장 높은지 \n",
        "            a = lid.popleft()\n",
        "            ct += 1\n",
        "            if a[0] == w: # 출력시 인덱스 번호가 알고자하는 번호면 정지\n",
        "                break\n",
        "        else:\n",
        "            a = lid.popleft() # 중요도가 높지 않으면 뒤로\n",
        "            lid.append(a)\n",
        "    print(ct)"
      ],
      "metadata": {
        "colab": {
          "base_uri": "https://localhost:8080/"
        },
        "id": "_NadV2wTWjM5",
        "outputId": "875835aa-24af-41fa-ed0f-6013240a8dbf"
      },
      "execution_count": null,
      "outputs": [
        {
          "output_type": "stream",
          "name": "stdout",
          "text": [
            "3\n",
            "1 0\n",
            "5\n",
            "1\n",
            "4 2\n",
            "1 2 3 4\n",
            "2\n",
            "6 0\n",
            "1 1 9 1 1 1\n",
            "5\n"
          ]
        }
      ]
    },
    {
      "cell_type": "markdown",
      "source": [
        "10886 success"
      ],
      "metadata": {
        "id": "7qNbM7HpG59y"
      }
    },
    {
      "cell_type": "code",
      "source": [
        "from collections import deque\n",
        "import sys\n",
        "li = deque([])\n",
        "for _ in range(int(sys.stdin.readline())):\n",
        "    o = sys.stdin.readline().strip()\n",
        "    if o[:9] == 'push_back':\n",
        "        n = o[10:]\n",
        "        o = o[:9]\n",
        "    elif o[:10] == 'push_front':\n",
        "        n = o[11:]\n",
        "        o = o[:10]\n",
        "    if o == 'push_front':\n",
        "        li.appendleft(int(n))\n",
        "    elif o == 'push_back':\n",
        "        li.append(int(n))\n",
        "    elif o == 'pop_front':\n",
        "        if len(li)>0:\n",
        "            print(li.popleft())\n",
        "        else:\n",
        "            print(-1)\n",
        "    elif o == 'pop_back':\n",
        "        if len(li)>0:\n",
        "            print(li.pop())\n",
        "        else:\n",
        "            print(-1)\n",
        "    elif o == 'size':\n",
        "        print(len(li))\n",
        "    elif o == 'empty':\n",
        "        if len(li) == 0:\n",
        "            print(1)\n",
        "        else:\n",
        "            print(0)\n",
        "    elif o == 'front':\n",
        "        if len(li)>0:\n",
        "            print(li[0])\n",
        "        else:\n",
        "            print(-1)\n",
        "    elif o == 'back':\n",
        "        if len(li)>0:\n",
        "            print(li[-1])\n",
        "        else:\n",
        "            print(-1)"
      ],
      "metadata": {
        "colab": {
          "base_uri": "https://localhost:8080/"
        },
        "id": "l3WJ0NU9G6Ho",
        "outputId": "f2a0fb42-a2c0-40fe-8385-caf9a2537555"
      },
      "execution_count": 7,
      "outputs": [
        {
          "output_type": "stream",
          "name": "stdout",
          "text": [
            "15\n",
            "push_back 1\n",
            "push_front 2\n",
            "front\n",
            "2\n",
            "back\n",
            "1\n",
            "size\n",
            "2\n",
            "empty\n",
            "0\n",
            "pop_front\n",
            "2\n",
            "pop_back\n",
            "1\n",
            "pop_front\n",
            "-1\n",
            "size\n",
            "0\n",
            "empty\n",
            "1\n",
            "pop_back\n",
            "-1\n",
            "push_front 3\n",
            "empty\n",
            "0\n",
            "front\n",
            "3\n"
          ]
        }
      ]
    },
    {
      "cell_type": "markdown",
      "source": [
        "1021 success"
      ],
      "metadata": {
        "id": "F61Umn9CLh6k"
      }
    },
    {
      "cell_type": "code",
      "source": [
        "from collections import deque\n",
        "d, n = map(int, input().split())\n",
        "li = deque([i for i in range(1, d+1)])\n",
        "ch = list(map(int, input().split()))\n",
        "ct = 0\n",
        "for i in ch:   \n",
        "    whe = li.index(i)\n",
        "    if whe == 0: # 맨 앞에 있으면 뽑는다\n",
        "        li.popleft()\n",
        "    else:\n",
        "        le = len(li) \n",
        "        if whe <= le - whe: # 위치가 중간 보다 앞쪽에 있으면 왼쪽으로 회전\n",
        "            ct += whe\n",
        "            for _ in range(whe):\n",
        "                pl = li.popleft()\n",
        "                li.append(pl)\n",
        "            li.popleft()\n",
        "        elif whe > le - whe: # 위치가 중간 보다 뒷쪽에 있으면 오른쪽으로 회전\n",
        "            ct += le - whe\n",
        "            for _ in range(le - whe):\n",
        "                pl = li.pop()\n",
        "                li.appendleft(pl)\n",
        "            li.popleft()\n",
        "print(ct)"
      ],
      "metadata": {
        "colab": {
          "base_uri": "https://localhost:8080/"
        },
        "id": "wUnQ6KqtLiIP",
        "outputId": "c2f4be12-147e-4ef0-b946-15bbaa98a470"
      },
      "execution_count": 17,
      "outputs": [
        {
          "output_type": "stream",
          "name": "stdout",
          "text": [
            "10 10\n",
            "1 6 3 2 7 9 8 4 10 5\n",
            "14\n"
          ]
        }
      ]
    },
    {
      "cell_type": "markdown",
      "source": [
        "5430 success"
      ],
      "metadata": {
        "id": "4ea0nIVxbOoG"
      }
    },
    {
      "cell_type": "code",
      "source": [
        "from collections import deque\n",
        "for _ in range(int(input())):\n",
        "    order = input()\n",
        "    li_n = int(input())\n",
        "    if li_n != 0:\n",
        "        li = deque(list(map(str, input().replace('[','').replace(']','').split(','))))\n",
        "    else: # 목록이 0 이면\n",
        "        xx = input()\n",
        "        li = deque([])\n",
        "    ct = 1\n",
        "    r = 0 \n",
        "    for i in order:\n",
        "        if i == 'R': # R 명령축적\n",
        "            r += 1\n",
        "        elif i == 'D': # R 명령이 짝수면 popleft 홀수면 pop\n",
        "            if len(li)>0:\n",
        "                if r % 2 == 0:\n",
        "                    li.popleft()\n",
        "                else:\n",
        "                    li.pop()                \n",
        "            else:\n",
        "                ct = 0\n",
        "                break\n",
        "    if r % 2 == 1:\n",
        "        li.reverse()\n",
        "    if ct:\n",
        "        print('[' + ','.join(li) + ']')\n",
        "    else:\n",
        "        print('error')"
      ],
      "metadata": {
        "colab": {
          "base_uri": "https://localhost:8080/"
        },
        "id": "ACB83ZF6bOzH",
        "outputId": "cb27f239-839b-4c16-94d1-27ea09290e4c"
      },
      "execution_count": 43,
      "outputs": [
        {
          "output_type": "stream",
          "name": "stdout",
          "text": [
            "4\n",
            "RDD\n",
            "4\n",
            "[1,2,3,4]\n",
            "[2,1]\n",
            "DD\n",
            "1\n",
            "[34\n",
            "error\n",
            "RRD\n",
            "6\n",
            "[1,1,2,3,5,8]\n",
            "[1,2,3,5,8]\n",
            "D\n",
            "0\n",
            "[]\n",
            "error\n"
          ]
        }
      ]
    }
  ]
}